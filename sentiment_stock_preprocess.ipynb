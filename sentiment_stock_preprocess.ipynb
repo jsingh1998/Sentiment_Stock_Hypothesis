{
 "cells": [
  {
   "cell_type": "markdown",
   "id": "2ddeb735",
   "metadata": {},
   "source": [
    "# Step 1: Data Alignment and Preprocessing"
   ]
  },
  {
   "cell_type": "code",
   "execution_count": 1,
   "id": "0044f8b5",
   "metadata": {},
   "outputs": [],
   "source": [
    "import pandas as pd\n",
    "import numpy as np\n",
    "import matplotlib.pyplot as plt\n",
    "import seaborn as sns\n",
    "from scipy import stats as stat"
   ]
  },
  {
   "cell_type": "code",
   "execution_count": 21,
   "id": "65f1086e",
   "metadata": {},
   "outputs": [],
   "source": [
    "company_tweet = pd.read_csv('data/Company_Tweet.csv')\n",
    "#tweet = pd.read_csv('Tweet.csv')\n",
    "#company = pd.read_csv('Company.csv')\n",
    "company_value = pd.read_csv('data/CompanyValues.csv')"
   ]
  },
  {
   "cell_type": "code",
   "execution_count": 5,
   "id": "a1c5d68d",
   "metadata": {
    "scrolled": true
   },
   "outputs": [
    {
     "data": {
      "text/html": [
       "<div>\n",
       "<style scoped>\n",
       "    .dataframe tbody tr th:only-of-type {\n",
       "        vertical-align: middle;\n",
       "    }\n",
       "\n",
       "    .dataframe tbody tr th {\n",
       "        vertical-align: top;\n",
       "    }\n",
       "\n",
       "    .dataframe thead th {\n",
       "        text-align: right;\n",
       "    }\n",
       "</style>\n",
       "<table border=\"1\" class=\"dataframe\">\n",
       "  <thead>\n",
       "    <tr style=\"text-align: right;\">\n",
       "      <th></th>\n",
       "      <th>ticker_symbol</th>\n",
       "      <th>company_name</th>\n",
       "    </tr>\n",
       "  </thead>\n",
       "  <tbody>\n",
       "    <tr>\n",
       "      <th>0</th>\n",
       "      <td>AAPL</td>\n",
       "      <td>apple</td>\n",
       "    </tr>\n",
       "    <tr>\n",
       "      <th>1</th>\n",
       "      <td>GOOG</td>\n",
       "      <td>Google Inc</td>\n",
       "    </tr>\n",
       "    <tr>\n",
       "      <th>2</th>\n",
       "      <td>GOOGL</td>\n",
       "      <td>Google Inc</td>\n",
       "    </tr>\n",
       "    <tr>\n",
       "      <th>3</th>\n",
       "      <td>AMZN</td>\n",
       "      <td>Amazon.com</td>\n",
       "    </tr>\n",
       "    <tr>\n",
       "      <th>4</th>\n",
       "      <td>TSLA</td>\n",
       "      <td>Tesla Inc</td>\n",
       "    </tr>\n",
       "  </tbody>\n",
       "</table>\n",
       "</div>"
      ],
      "text/plain": [
       "  ticker_symbol company_name\n",
       "0          AAPL        apple\n",
       "1          GOOG   Google Inc\n",
       "2         GOOGL   Google Inc\n",
       "3          AMZN   Amazon.com\n",
       "4          TSLA    Tesla Inc"
      ]
     },
     "execution_count": 5,
     "metadata": {},
     "output_type": "execute_result"
    }
   ],
   "source": [
    "company.head()"
   ]
  },
  {
   "cell_type": "markdown",
   "id": "495687bf",
   "metadata": {},
   "source": [
    "\"GOOG and GOOGL are stock ticker symbols for Alphabet (the company formerly known as Google). ... The company created two classes of shares in April 2014."
   ]
  },
  {
   "cell_type": "code",
   "execution_count": 22,
   "id": "9f1a8467",
   "metadata": {},
   "outputs": [
    {
     "data": {
      "text/html": [
       "<div>\n",
       "<style scoped>\n",
       "    .dataframe tbody tr th:only-of-type {\n",
       "        vertical-align: middle;\n",
       "    }\n",
       "\n",
       "    .dataframe tbody tr th {\n",
       "        vertical-align: top;\n",
       "    }\n",
       "\n",
       "    .dataframe thead th {\n",
       "        text-align: right;\n",
       "    }\n",
       "</style>\n",
       "<table border=\"1\" class=\"dataframe\">\n",
       "  <thead>\n",
       "    <tr style=\"text-align: right;\">\n",
       "      <th></th>\n",
       "      <th>tweet_id</th>\n",
       "      <th>ticker_symbol</th>\n",
       "    </tr>\n",
       "  </thead>\n",
       "  <tbody>\n",
       "    <tr>\n",
       "      <th>0</th>\n",
       "      <td>550803612197457920</td>\n",
       "      <td>AAPL</td>\n",
       "    </tr>\n",
       "    <tr>\n",
       "      <th>1</th>\n",
       "      <td>550803610825928706</td>\n",
       "      <td>AAPL</td>\n",
       "    </tr>\n",
       "    <tr>\n",
       "      <th>2</th>\n",
       "      <td>550803225113157632</td>\n",
       "      <td>AAPL</td>\n",
       "    </tr>\n",
       "    <tr>\n",
       "      <th>3</th>\n",
       "      <td>550802957370159104</td>\n",
       "      <td>AAPL</td>\n",
       "    </tr>\n",
       "    <tr>\n",
       "      <th>4</th>\n",
       "      <td>550802855129382912</td>\n",
       "      <td>AAPL</td>\n",
       "    </tr>\n",
       "  </tbody>\n",
       "</table>\n",
       "</div>"
      ],
      "text/plain": [
       "             tweet_id ticker_symbol\n",
       "0  550803612197457920          AAPL\n",
       "1  550803610825928706          AAPL\n",
       "2  550803225113157632          AAPL\n",
       "3  550802957370159104          AAPL\n",
       "4  550802855129382912          AAPL"
      ]
     },
     "execution_count": 22,
     "metadata": {},
     "output_type": "execute_result"
    }
   ],
   "source": [
    "company_tweet.head()"
   ]
  },
  {
   "cell_type": "code",
   "execution_count": 23,
   "id": "a1119b25",
   "metadata": {},
   "outputs": [
    {
     "name": "stdout",
     "output_type": "stream",
     "text": [
      "<class 'pandas.core.frame.DataFrame'>\n",
      "RangeIndex: 4336445 entries, 0 to 4336444\n",
      "Data columns (total 2 columns):\n",
      " #   Column         Dtype \n",
      "---  ------         ----- \n",
      " 0   tweet_id       int64 \n",
      " 1   ticker_symbol  object\n",
      "dtypes: int64(1), object(1)\n",
      "memory usage: 66.2+ MB\n"
     ]
    }
   ],
   "source": [
    "company_tweet.info()"
   ]
  },
  {
   "cell_type": "code",
   "execution_count": 24,
   "id": "6d6ecc2f",
   "metadata": {},
   "outputs": [
    {
     "data": {
      "text/plain": [
       "array(['AAPL', 'GOOG', 'GOOGL', 'AMZN', 'MSFT', 'TSLA'], dtype=object)"
      ]
     },
     "execution_count": 24,
     "metadata": {},
     "output_type": "execute_result"
    }
   ],
   "source": [
    "company_tweet['ticker_symbol'].unique()"
   ]
  },
  {
   "cell_type": "code",
   "execution_count": 25,
   "id": "00fcb6bd",
   "metadata": {},
   "outputs": [],
   "source": [
    "# Replace all occurrences of 'GOOGL' with 'GOOG' in the 'ticker_symbol' column\n",
    "company_tweet['ticker_symbol'] = company_tweet['ticker_symbol'].replace('GOOGL', 'GOOG')"
   ]
  },
  {
   "cell_type": "code",
   "execution_count": 27,
   "id": "fe30d06b",
   "metadata": {},
   "outputs": [
    {
     "data": {
      "text/plain": [
       "array(['AAPL', 'GOOG', 'AMZN', 'MSFT', 'TSLA'], dtype=object)"
      ]
     },
     "execution_count": 27,
     "metadata": {},
     "output_type": "execute_result"
    }
   ],
   "source": [
    "company_tweet['ticker_symbol'].unique()"
   ]
  },
  {
   "cell_type": "code",
   "execution_count": 28,
   "id": "5de7c46d",
   "metadata": {},
   "outputs": [],
   "source": [
    "company_tweet.to_csv('data/updated_company_tweet.csv', index=False)"
   ]
  },
  {
   "cell_type": "code",
   "execution_count": 9,
   "id": "ac575008",
   "metadata": {},
   "outputs": [
    {
     "data": {
      "text/html": [
       "<div>\n",
       "<style scoped>\n",
       "    .dataframe tbody tr th:only-of-type {\n",
       "        vertical-align: middle;\n",
       "    }\n",
       "\n",
       "    .dataframe tbody tr th {\n",
       "        vertical-align: top;\n",
       "    }\n",
       "\n",
       "    .dataframe thead th {\n",
       "        text-align: right;\n",
       "    }\n",
       "</style>\n",
       "<table border=\"1\" class=\"dataframe\">\n",
       "  <thead>\n",
       "    <tr style=\"text-align: right;\">\n",
       "      <th></th>\n",
       "      <th>tweet_id</th>\n",
       "      <th>writer</th>\n",
       "      <th>post_date</th>\n",
       "      <th>body</th>\n",
       "      <th>comment_num</th>\n",
       "      <th>retweet_num</th>\n",
       "      <th>like_num</th>\n",
       "    </tr>\n",
       "  </thead>\n",
       "  <tbody>\n",
       "    <tr>\n",
       "      <th>0</th>\n",
       "      <td>550441509175443456</td>\n",
       "      <td>VisualStockRSRC</td>\n",
       "      <td>1420070457</td>\n",
       "      <td>lx21 made $10,008  on $AAPL -Check it out! htt...</td>\n",
       "      <td>0</td>\n",
       "      <td>0</td>\n",
       "      <td>1</td>\n",
       "    </tr>\n",
       "    <tr>\n",
       "      <th>1</th>\n",
       "      <td>550441672312512512</td>\n",
       "      <td>KeralaGuy77</td>\n",
       "      <td>1420070496</td>\n",
       "      <td>Insanity of today weirdo massive selling. $aap...</td>\n",
       "      <td>0</td>\n",
       "      <td>0</td>\n",
       "      <td>0</td>\n",
       "    </tr>\n",
       "    <tr>\n",
       "      <th>2</th>\n",
       "      <td>550441732014223360</td>\n",
       "      <td>DozenStocks</td>\n",
       "      <td>1420070510</td>\n",
       "      <td>S&amp;P100 #Stocks Performance $HD $LOW $SBUX $TGT...</td>\n",
       "      <td>0</td>\n",
       "      <td>0</td>\n",
       "      <td>0</td>\n",
       "    </tr>\n",
       "    <tr>\n",
       "      <th>3</th>\n",
       "      <td>550442977802207232</td>\n",
       "      <td>ShowDreamCar</td>\n",
       "      <td>1420070807</td>\n",
       "      <td>$GM $TSLA: Volkswagen Pushes 2014 Record Recal...</td>\n",
       "      <td>0</td>\n",
       "      <td>0</td>\n",
       "      <td>1</td>\n",
       "    </tr>\n",
       "    <tr>\n",
       "      <th>4</th>\n",
       "      <td>550443807834402816</td>\n",
       "      <td>i_Know_First</td>\n",
       "      <td>1420071005</td>\n",
       "      <td>Swing Trading: Up To 8.91% Return In 14 Days h...</td>\n",
       "      <td>0</td>\n",
       "      <td>0</td>\n",
       "      <td>1</td>\n",
       "    </tr>\n",
       "  </tbody>\n",
       "</table>\n",
       "</div>"
      ],
      "text/plain": [
       "             tweet_id           writer   post_date  \\\n",
       "0  550441509175443456  VisualStockRSRC  1420070457   \n",
       "1  550441672312512512      KeralaGuy77  1420070496   \n",
       "2  550441732014223360      DozenStocks  1420070510   \n",
       "3  550442977802207232     ShowDreamCar  1420070807   \n",
       "4  550443807834402816     i_Know_First  1420071005   \n",
       "\n",
       "                                                body  comment_num  \\\n",
       "0  lx21 made $10,008  on $AAPL -Check it out! htt...            0   \n",
       "1  Insanity of today weirdo massive selling. $aap...            0   \n",
       "2  S&P100 #Stocks Performance $HD $LOW $SBUX $TGT...            0   \n",
       "3  $GM $TSLA: Volkswagen Pushes 2014 Record Recal...            0   \n",
       "4  Swing Trading: Up To 8.91% Return In 14 Days h...            0   \n",
       "\n",
       "   retweet_num  like_num  \n",
       "0            0         1  \n",
       "1            0         0  \n",
       "2            0         0  \n",
       "3            0         1  \n",
       "4            0         1  "
      ]
     },
     "execution_count": 9,
     "metadata": {},
     "output_type": "execute_result"
    }
   ],
   "source": [
    "tweet.head()"
   ]
  },
  {
   "cell_type": "code",
   "execution_count": 14,
   "id": "854e62ca",
   "metadata": {},
   "outputs": [],
   "source": [
    "tweet['post_date'] = pd.to_datetime(tweet['post_date'], unit='s')"
   ]
  },
  {
   "cell_type": "code",
   "execution_count": 21,
   "id": "09bcd61c",
   "metadata": {},
   "outputs": [],
   "source": [
    "tweet['day_date'] = pd.to_datetime(tweet['post_date'].apply(lambda date: date.date()))"
   ]
  },
  {
   "cell_type": "code",
   "execution_count": 22,
   "id": "c7e52a55",
   "metadata": {},
   "outputs": [
    {
     "data": {
      "text/html": [
       "<div>\n",
       "<style scoped>\n",
       "    .dataframe tbody tr th:only-of-type {\n",
       "        vertical-align: middle;\n",
       "    }\n",
       "\n",
       "    .dataframe tbody tr th {\n",
       "        vertical-align: top;\n",
       "    }\n",
       "\n",
       "    .dataframe thead th {\n",
       "        text-align: right;\n",
       "    }\n",
       "</style>\n",
       "<table border=\"1\" class=\"dataframe\">\n",
       "  <thead>\n",
       "    <tr style=\"text-align: right;\">\n",
       "      <th></th>\n",
       "      <th>tweet_id</th>\n",
       "      <th>writer</th>\n",
       "      <th>post_date</th>\n",
       "      <th>body</th>\n",
       "      <th>comment_num</th>\n",
       "      <th>retweet_num</th>\n",
       "      <th>like_num</th>\n",
       "      <th>day_date</th>\n",
       "    </tr>\n",
       "  </thead>\n",
       "  <tbody>\n",
       "    <tr>\n",
       "      <th>0</th>\n",
       "      <td>550441509175443456</td>\n",
       "      <td>VisualStockRSRC</td>\n",
       "      <td>2015-01-01 00:00:57</td>\n",
       "      <td>lx21 made $10,008  on $AAPL -Check it out! htt...</td>\n",
       "      <td>0</td>\n",
       "      <td>0</td>\n",
       "      <td>1</td>\n",
       "      <td>2015-01-01</td>\n",
       "    </tr>\n",
       "    <tr>\n",
       "      <th>1</th>\n",
       "      <td>550441672312512512</td>\n",
       "      <td>KeralaGuy77</td>\n",
       "      <td>2015-01-01 00:01:36</td>\n",
       "      <td>Insanity of today weirdo massive selling. $aap...</td>\n",
       "      <td>0</td>\n",
       "      <td>0</td>\n",
       "      <td>0</td>\n",
       "      <td>2015-01-01</td>\n",
       "    </tr>\n",
       "    <tr>\n",
       "      <th>2</th>\n",
       "      <td>550441732014223360</td>\n",
       "      <td>DozenStocks</td>\n",
       "      <td>2015-01-01 00:01:50</td>\n",
       "      <td>S&amp;P100 #Stocks Performance $HD $LOW $SBUX $TGT...</td>\n",
       "      <td>0</td>\n",
       "      <td>0</td>\n",
       "      <td>0</td>\n",
       "      <td>2015-01-01</td>\n",
       "    </tr>\n",
       "    <tr>\n",
       "      <th>3</th>\n",
       "      <td>550442977802207232</td>\n",
       "      <td>ShowDreamCar</td>\n",
       "      <td>2015-01-01 00:06:47</td>\n",
       "      <td>$GM $TSLA: Volkswagen Pushes 2014 Record Recal...</td>\n",
       "      <td>0</td>\n",
       "      <td>0</td>\n",
       "      <td>1</td>\n",
       "      <td>2015-01-01</td>\n",
       "    </tr>\n",
       "    <tr>\n",
       "      <th>4</th>\n",
       "      <td>550443807834402816</td>\n",
       "      <td>i_Know_First</td>\n",
       "      <td>2015-01-01 00:10:05</td>\n",
       "      <td>Swing Trading: Up To 8.91% Return In 14 Days h...</td>\n",
       "      <td>0</td>\n",
       "      <td>0</td>\n",
       "      <td>1</td>\n",
       "      <td>2015-01-01</td>\n",
       "    </tr>\n",
       "  </tbody>\n",
       "</table>\n",
       "</div>"
      ],
      "text/plain": [
       "             tweet_id           writer           post_date  \\\n",
       "0  550441509175443456  VisualStockRSRC 2015-01-01 00:00:57   \n",
       "1  550441672312512512      KeralaGuy77 2015-01-01 00:01:36   \n",
       "2  550441732014223360      DozenStocks 2015-01-01 00:01:50   \n",
       "3  550442977802207232     ShowDreamCar 2015-01-01 00:06:47   \n",
       "4  550443807834402816     i_Know_First 2015-01-01 00:10:05   \n",
       "\n",
       "                                                body  comment_num  \\\n",
       "0  lx21 made $10,008  on $AAPL -Check it out! htt...            0   \n",
       "1  Insanity of today weirdo massive selling. $aap...            0   \n",
       "2  S&P100 #Stocks Performance $HD $LOW $SBUX $TGT...            0   \n",
       "3  $GM $TSLA: Volkswagen Pushes 2014 Record Recal...            0   \n",
       "4  Swing Trading: Up To 8.91% Return In 14 Days h...            0   \n",
       "\n",
       "   retweet_num  like_num   day_date  \n",
       "0            0         1 2015-01-01  \n",
       "1            0         0 2015-01-01  \n",
       "2            0         0 2015-01-01  \n",
       "3            0         1 2015-01-01  \n",
       "4            0         1 2015-01-01  "
      ]
     },
     "execution_count": 22,
     "metadata": {},
     "output_type": "execute_result"
    }
   ],
   "source": [
    "tweet.head()"
   ]
  },
  {
   "cell_type": "code",
   "execution_count": 23,
   "id": "2726a3c8",
   "metadata": {},
   "outputs": [
    {
     "name": "stdout",
     "output_type": "stream",
     "text": [
      "<class 'pandas.core.frame.DataFrame'>\n",
      "RangeIndex: 3717964 entries, 0 to 3717963\n",
      "Data columns (total 8 columns):\n",
      " #   Column       Dtype         \n",
      "---  ------       -----         \n",
      " 0   tweet_id     int64         \n",
      " 1   writer       object        \n",
      " 2   post_date    datetime64[ns]\n",
      " 3   body         object        \n",
      " 4   comment_num  int64         \n",
      " 5   retweet_num  int64         \n",
      " 6   like_num     int64         \n",
      " 7   day_date     datetime64[ns]\n",
      "dtypes: datetime64[ns](2), int64(4), object(2)\n",
      "memory usage: 226.9+ MB\n"
     ]
    }
   ],
   "source": [
    "tweet.info()"
   ]
  },
  {
   "cell_type": "code",
   "execution_count": 10,
   "id": "285d0b62",
   "metadata": {
    "scrolled": true
   },
   "outputs": [
    {
     "data": {
      "text/html": [
       "<div>\n",
       "<style scoped>\n",
       "    .dataframe tbody tr th:only-of-type {\n",
       "        vertical-align: middle;\n",
       "    }\n",
       "\n",
       "    .dataframe tbody tr th {\n",
       "        vertical-align: top;\n",
       "    }\n",
       "\n",
       "    .dataframe thead th {\n",
       "        text-align: right;\n",
       "    }\n",
       "</style>\n",
       "<table border=\"1\" class=\"dataframe\">\n",
       "  <thead>\n",
       "    <tr style=\"text-align: right;\">\n",
       "      <th></th>\n",
       "      <th>ticker_symbol</th>\n",
       "      <th>day_date</th>\n",
       "      <th>close_value</th>\n",
       "      <th>volume</th>\n",
       "      <th>open_value</th>\n",
       "      <th>high_value</th>\n",
       "      <th>low_value</th>\n",
       "    </tr>\n",
       "  </thead>\n",
       "  <tbody>\n",
       "    <tr>\n",
       "      <th>0</th>\n",
       "      <td>AAPL</td>\n",
       "      <td>2020-05-29</td>\n",
       "      <td>317.94</td>\n",
       "      <td>38399530</td>\n",
       "      <td>319.25</td>\n",
       "      <td>321.15</td>\n",
       "      <td>316.47</td>\n",
       "    </tr>\n",
       "    <tr>\n",
       "      <th>1</th>\n",
       "      <td>AAPL</td>\n",
       "      <td>2020-05-28</td>\n",
       "      <td>318.25</td>\n",
       "      <td>33449100</td>\n",
       "      <td>316.77</td>\n",
       "      <td>323.44</td>\n",
       "      <td>315.63</td>\n",
       "    </tr>\n",
       "    <tr>\n",
       "      <th>2</th>\n",
       "      <td>AAPL</td>\n",
       "      <td>2020-05-27</td>\n",
       "      <td>318.11</td>\n",
       "      <td>28236270</td>\n",
       "      <td>316.14</td>\n",
       "      <td>318.71</td>\n",
       "      <td>313.09</td>\n",
       "    </tr>\n",
       "    <tr>\n",
       "      <th>3</th>\n",
       "      <td>AAPL</td>\n",
       "      <td>2020-05-26</td>\n",
       "      <td>316.73</td>\n",
       "      <td>31380450</td>\n",
       "      <td>323.50</td>\n",
       "      <td>324.24</td>\n",
       "      <td>316.50</td>\n",
       "    </tr>\n",
       "    <tr>\n",
       "      <th>4</th>\n",
       "      <td>AAPL</td>\n",
       "      <td>2020-05-22</td>\n",
       "      <td>318.89</td>\n",
       "      <td>20450750</td>\n",
       "      <td>315.77</td>\n",
       "      <td>319.23</td>\n",
       "      <td>315.35</td>\n",
       "    </tr>\n",
       "  </tbody>\n",
       "</table>\n",
       "</div>"
      ],
      "text/plain": [
       "  ticker_symbol    day_date  close_value    volume  open_value  high_value  \\\n",
       "0          AAPL  2020-05-29       317.94  38399530      319.25      321.15   \n",
       "1          AAPL  2020-05-28       318.25  33449100      316.77      323.44   \n",
       "2          AAPL  2020-05-27       318.11  28236270      316.14      318.71   \n",
       "3          AAPL  2020-05-26       316.73  31380450      323.50      324.24   \n",
       "4          AAPL  2020-05-22       318.89  20450750      315.77      319.23   \n",
       "\n",
       "   low_value  \n",
       "0     316.47  \n",
       "1     315.63  \n",
       "2     313.09  \n",
       "3     316.50  \n",
       "4     315.35  "
      ]
     },
     "execution_count": 10,
     "metadata": {},
     "output_type": "execute_result"
    }
   ],
   "source": [
    "company_value.head()"
   ]
  },
  {
   "cell_type": "code",
   "execution_count": 97,
   "id": "856249a4",
   "metadata": {},
   "outputs": [],
   "source": [
    "company_value['day_date'] = pd.to_datetime(company_value['day_date'])"
   ]
  },
  {
   "cell_type": "code",
   "execution_count": 29,
   "id": "12d26f29",
   "metadata": {},
   "outputs": [
    {
     "data": {
      "text/plain": [
       "array(['AAPL', 'AMZN', 'GOOGL', 'GOOG', 'MSFT', 'TSLA'], dtype=object)"
      ]
     },
     "execution_count": 29,
     "metadata": {},
     "output_type": "execute_result"
    }
   ],
   "source": [
    "company_value['ticker_symbol'].unique()"
   ]
  },
  {
   "cell_type": "code",
   "execution_count": 30,
   "id": "ff34f7ff",
   "metadata": {},
   "outputs": [],
   "source": [
    "# Replace all occurrences of 'GOOGL' with 'GOOG' in the 'ticker_symbol' column\n",
    "company_value['ticker_symbol'] = company_value['ticker_symbol'].replace('GOOGL', 'GOOG')"
   ]
  },
  {
   "cell_type": "code",
   "execution_count": 31,
   "id": "a8221540",
   "metadata": {},
   "outputs": [
    {
     "data": {
      "text/plain": [
       "array(['AAPL', 'AMZN', 'GOOG', 'MSFT', 'TSLA'], dtype=object)"
      ]
     },
     "execution_count": 31,
     "metadata": {},
     "output_type": "execute_result"
    }
   ],
   "source": [
    "company_value['ticker_symbol'].unique()"
   ]
  },
  {
   "cell_type": "code",
   "execution_count": 32,
   "id": "d08cc39e",
   "metadata": {},
   "outputs": [],
   "source": [
    "company_value.to_csv('data/updated_company_value.csv', index=False)"
   ]
  },
  {
   "cell_type": "code",
   "execution_count": 101,
   "id": "b426343c",
   "metadata": {},
   "outputs": [
    {
     "name": "stdout",
     "output_type": "stream",
     "text": [
      "2010-06-01 00:00:00 \n",
      " 2020-05-29 00:00:00\n"
     ]
    }
   ],
   "source": [
    "print(company_value['day_date'].min(),'\\n',company_value['day_date'].max())"
   ]
  },
  {
   "cell_type": "code",
   "execution_count": 19,
   "id": "b44401c1",
   "metadata": {},
   "outputs": [
    {
     "name": "stdout",
     "output_type": "stream",
     "text": [
      "<class 'pandas.core.frame.DataFrame'>\n",
      "RangeIndex: 17528 entries, 0 to 17527\n",
      "Data columns (total 7 columns):\n",
      " #   Column         Non-Null Count  Dtype         \n",
      "---  ------         --------------  -----         \n",
      " 0   ticker_symbol  17528 non-null  object        \n",
      " 1   day_date       17528 non-null  datetime64[ns]\n",
      " 2   close_value    17528 non-null  float64       \n",
      " 3   volume         17528 non-null  int64         \n",
      " 4   open_value     17528 non-null  float64       \n",
      " 5   high_value     17528 non-null  float64       \n",
      " 6   low_value      17528 non-null  float64       \n",
      "dtypes: datetime64[ns](1), float64(4), int64(1), object(1)\n",
      "memory usage: 958.7+ KB\n"
     ]
    }
   ],
   "source": [
    "company_value.info()"
   ]
  },
  {
   "cell_type": "code",
   "execution_count": 33,
   "id": "09a27528",
   "metadata": {},
   "outputs": [
    {
     "data": {
      "text/plain": [
       "ticker_symbol\n",
       "GOOG    5208\n",
       "AAPL    3085\n",
       "AMZN    3085\n",
       "MSFT    3085\n",
       "TSLA    3065\n",
       "Name: count, dtype: int64"
      ]
     },
     "execution_count": 33,
     "metadata": {},
     "output_type": "execute_result"
    }
   ],
   "source": [
    "company_value['ticker_symbol'].value_counts()"
   ]
  },
  {
   "cell_type": "code",
   "execution_count": null,
   "id": "99487d92",
   "metadata": {},
   "outputs": [],
   "source": []
  },
  {
   "cell_type": "markdown",
   "id": "c438935b",
   "metadata": {},
   "source": [
    "# Assigning sentiments to tweets"
   ]
  },
  {
   "cell_type": "code",
   "execution_count": 25,
   "id": "49df4f7f",
   "metadata": {},
   "outputs": [],
   "source": [
    "tweet_df = tweet.loc[:,['tweet_id','body','day_date']]"
   ]
  },
  {
   "cell_type": "code",
   "execution_count": null,
   "id": "9ebed222",
   "metadata": {},
   "outputs": [],
   "source": [
    "tweet_df.to_csv('assign_sentiment.csv')"
   ]
  },
  {
   "cell_type": "code",
   "execution_count": null,
   "id": "9f1ad197",
   "metadata": {},
   "outputs": [],
   "source": []
  },
  {
   "cell_type": "markdown",
   "id": "ba97dd35",
   "metadata": {},
   "source": [
    "# Concatenate bert"
   ]
  },
  {
   "cell_type": "code",
   "execution_count": 9,
   "id": "31c2a01b",
   "metadata": {},
   "outputs": [],
   "source": [
    "from pyspark.sql import SparkSession\n",
    "\n",
    "# Step 1: Initialize Spark Session\n",
    "spark = SparkSession.builder \\\n",
    "    .appName(\"Read and Combine CSV Files\") \\\n",
    "    .getOrCreate()\n",
    "\n",
    "# Read CSV files directly into PySpark DataFrames\n",
    "df1 = spark.read.csv('bert_sentiment_subset1.csv', header=True, inferSchema=True)\n",
    "df2 = spark.read.csv('bert_sentiment_subset2.csv', header=True, inferSchema=True)\n",
    "df3 = spark.read.csv('bert_sentiment_subset3.csv', header=True, inferSchema=True)\n",
    "\n",
    "\n",
    "combined_df = df1.union(df2).union(df3)"
   ]
  },
  {
   "cell_type": "code",
   "execution_count": 10,
   "id": "e0c5775a",
   "metadata": {
    "scrolled": true
   },
   "outputs": [
    {
     "name": "stdout",
     "output_type": "stream",
     "text": [
      "+------------------+--------------------+----------+--------------------+---------+------------------+\n",
      "|          tweet_id|                body|  day_date|        cleaned_body|sentiment|   sentiment_score|\n",
      "+------------------+--------------------+----------+--------------------+---------+------------------+\n",
      "|550441509175443456|lx21 made $10,008...|2015-01-01|lx21 made 10008  ...| NEGATIVE| 0.987220823764801|\n",
      "|550441672312512512|Insanity of today...|2015-01-01|insanity of today...| NEGATIVE|0.9980893731117249|\n",
      "|550441732014223360|S&P100 #Stocks Pe...|2015-01-01|sp100  performanc...| NEGATIVE|0.9954293966293335|\n",
      "|550442977802207232|$GM $TSLA: Volksw...|2015-01-01|gm tsla volkswage...| POSITIVE|0.9334741830825806|\n",
      "|550443807834402816|Swing Trading: Up...|2015-01-01|swing trading up ...| NEGATIVE| 0.940014660358429|\n",
      "|550443808606126081|Swing Trading: Up...|2015-01-01|swing trading up ...| NEGATIVE| 0.940014660358429|\n",
      "|550443809700851716|Swing Trading: Up...|2015-01-01|swing trading up ...| NEGATIVE| 0.940014660358429|\n",
      "|550443857142611968|Swing Trading: Up...|2015-01-01|swing trading up ...| NEGATIVE| 0.940014660358429|\n",
      "|550443857595600896|Swing Trading: Up...|2015-01-01|swing trading up ...| NEGATIVE| 0.940014660358429|\n",
      "|550443857692078081|Swing Trading: Up...|2015-01-01|swing trading up ...| NEGATIVE| 0.940014660358429|\n",
      "|550443858010861568|Swing Trading: Up...|2015-01-01|swing trading up ...| NEGATIVE| 0.940014660358429|\n",
      "|550444112328261632|$UNP $ORCL $QCOM ...|2015-01-01|unp orcl qcom msf...| POSITIVE|0.9840987324714661|\n",
      "|550444969924653056|$AAPL Apple goes ...|2015-01-01|aapl apple goes g...| POSITIVE|0.9849073886871338|\n",
      "|550444970738335744|“@WSJ: Apple is b...|2015-01-01|apple is being su...| NEGATIVE|0.9989198446273804|\n",
      "|550445066444369921|Apple filed for i...|2015-01-01|apple filed for i...| NEGATIVE| 0.978590190410614|\n",
      "|550445850170642432|@CNBC 15 Top #tra...|2015-01-01|15 top  for   tif...| NEGATIVE|0.9680405855178833|\n",
      "|550447574285418497|We searched throu...|2015-01-01|we searched throu...| POSITIVE|0.9986793398857117|\n",
      "|550447850857828352|Top 10 searched #...|2015-01-01|top 10 searched  ...| NEGATIVE|0.9775350093841553|\n",
      "|550447998577426433|2014 The Year in ...|2015-01-01|2014 the year in ...| NEGATIVE|0.9912053942680359|\n",
      "|550448085789200384|Give your brain a...|2015-01-01|give your brain a...| POSITIVE|0.9993288516998291|\n",
      "+------------------+--------------------+----------+--------------------+---------+------------------+\n",
      "only showing top 20 rows\n",
      "\n"
     ]
    }
   ],
   "source": [
    "combined_df.show()"
   ]
  },
  {
   "cell_type": "code",
   "execution_count": 11,
   "id": "c4cfcd43",
   "metadata": {},
   "outputs": [
    {
     "name": "stdout",
     "output_type": "stream",
     "text": [
      "root\n",
      " |-- tweet_id: long (nullable = true)\n",
      " |-- body: string (nullable = true)\n",
      " |-- day_date: string (nullable = true)\n",
      " |-- cleaned_body: string (nullable = true)\n",
      " |-- sentiment: string (nullable = true)\n",
      " |-- sentiment_score: string (nullable = true)\n",
      "\n"
     ]
    }
   ],
   "source": [
    "combined_df.printSchema()"
   ]
  },
  {
   "cell_type": "code",
   "execution_count": 13,
   "id": "fbeb2f25",
   "metadata": {},
   "outputs": [],
   "source": [
    "from pyspark.sql.functions import col, min, max\n",
    "\n",
    "combined_df = combined_df.withColumn(\"day_date\", col(\"day_date\").cast(\"date\"))"
   ]
  },
  {
   "cell_type": "code",
   "execution_count": 15,
   "id": "45534b50",
   "metadata": {},
   "outputs": [
    {
     "name": "stderr",
     "output_type": "stream",
     "text": [
      "[Stage 18:=====================================>                  (16 + 8) / 24]\r"
     ]
    },
    {
     "name": "stdout",
     "output_type": "stream",
     "text": [
      "Date range in the combined DataFrame is from 1199-01-01 to 2024-01-01.\n"
     ]
    },
    {
     "name": "stderr",
     "output_type": "stream",
     "text": [
      "\r",
      "                                                                                \r"
     ]
    }
   ],
   "source": [
    "date_range = combined_df.select(min(\"day_date\").alias(\"min_date\"), max(\"day_date\").alias(\"max_date\")).collect()\n",
    "\n",
    "# Extract the min and max dates\n",
    "min_date = date_range[0][\"min_date\"]\n",
    "max_date = date_range[0][\"max_date\"]\n",
    "\n",
    "print(f\"Date range in the combined DataFrame is from {min_date} to {max_date}.\")"
   ]
  },
  {
   "cell_type": "code",
   "execution_count": 19,
   "id": "f9e289a7",
   "metadata": {},
   "outputs": [],
   "source": [
    "# Define the date range for filtering\n",
    "start_date = '2015-01-01'\n",
    "end_date = '2024-01-01'\n",
    "\n",
    "# Filter DataFrame by the date range\n",
    "filtered_df = combined_df.filter((col('day_date') >= start_date) & (col('day_date') <= end_date))"
   ]
  },
  {
   "cell_type": "code",
   "execution_count": 35,
   "id": "c0b51a97",
   "metadata": {},
   "outputs": [],
   "source": [
    "# join ticker_symbol with sentiment dataframe\n",
    "\n",
    "spark_company_tweet = spark.createDataFrame(company_tweet)\n",
    "\n",
    "# Join the DataFrames on 'tweet_id'\n",
    "joined_df = combined_df.join(spark_company_tweet, on='tweet_id', how='inner')"
   ]
  },
  {
   "cell_type": "code",
   "execution_count": 42,
   "id": "59f7a6b0",
   "metadata": {},
   "outputs": [
    {
     "name": "stderr",
     "output_type": "stream",
     "text": [
      "24/09/02 22:21:47 WARN TaskSetManager: Stage 55 contains a task of very large size (7430 KiB). The maximum recommended task size is 1000 KiB.\n",
      "24/09/02 22:21:55 WARN TaskSetManager: Stage 63 contains a task of very large size (7430 KiB). The maximum recommended task size is 1000 KiB.\n"
     ]
    },
    {
     "name": "stdout",
     "output_type": "stream",
     "text": [
      "4336445\n",
      "4336445\n"
     ]
    },
    {
     "name": "stderr",
     "output_type": "stream",
     "text": [
      "\r",
      "[Stage 63:>                                                         (0 + 8) / 8]\r",
      "\r",
      "                                                                                \r"
     ]
    }
   ],
   "source": [
    "print(joined_df.count())\n",
    "print(spark_company_tweet.count())"
   ]
  },
  {
   "cell_type": "code",
   "execution_count": 41,
   "id": "896c20b0",
   "metadata": {},
   "outputs": [
    {
     "name": "stderr",
     "output_type": "stream",
     "text": [
      "                                                                                \r"
     ]
    },
    {
     "name": "stdout",
     "output_type": "stream",
     "text": [
      "3717964\n"
     ]
    },
    {
     "name": "stderr",
     "output_type": "stream",
     "text": [
      "[Stage 48:===================================================>    (22 + 2) / 24]\r"
     ]
    },
    {
     "name": "stdout",
     "output_type": "stream",
     "text": [
      "3717964\n"
     ]
    },
    {
     "name": "stderr",
     "output_type": "stream",
     "text": [
      "\r",
      "                                                                                \r"
     ]
    }
   ],
   "source": [
    "print(combined_df.count())\n",
    "print(combined_df.select(\"tweet_id\").distinct().count())"
   ]
  },
  {
   "cell_type": "code",
   "execution_count": 43,
   "id": "903d8793",
   "metadata": {},
   "outputs": [
    {
     "name": "stderr",
     "output_type": "stream",
     "text": [
      "24/09/02 22:22:24 WARN TaskSetManager: Stage 67 contains a task of very large size (7430 KiB). The maximum recommended task size is 1000 KiB.\n",
      "[Stage 67:==================================================>       (7 + 1) / 8]\r"
     ]
    },
    {
     "name": "stdout",
     "output_type": "stream",
     "text": [
      "+------------------+--------------------+----------+--------------------+---------+------------------+-------------+\n",
      "|          tweet_id|                body|  day_date|        cleaned_body|sentiment|   sentiment_score|ticker_symbol|\n",
      "+------------------+--------------------+----------+--------------------+---------+------------------+-------------+\n",
      "|550447574285418497|We searched throu...|2015-01-01|we searched throu...| POSITIVE|0.9986793398857117|         AAPL|\n",
      "|550450683309072384|Clay Trader Apple...|2015-01-01|clay trader apple...| NEGATIVE|0.9947957396507263|         AAPL|\n",
      "|550455355134578688|http://StockAviat...|2015-01-01|penny stocks nyse...| NEGATIVE|0.9938942790031433|         MSFT|\n",
      "|550460180631011328|$AMZN OI for matu...|2015-01-01|amzn oi for matur...| NEGATIVE|0.5678575038909912|         AMZN|\n",
      "|550461555423584257|Prediction: $TWTR...|2015-01-01|prediction twtr g...| NEGATIVE|0.9428709745407104|         GOOG|\n",
      "|550461555423584257|Prediction: $TWTR...|2015-01-01|prediction twtr g...| NEGATIVE|0.9428709745407104|         GOOG|\n",
      "|550471631034806273|World’s 400 Riche...|2015-01-01|worlds 400 riches...| POSITIVE|0.9916071891784668|         AMZN|\n",
      "|550471634742542336|World’s 400 Riche...|2015-01-01|worlds 400 riches...| POSITIVE|0.9916071891784668|         AMZN|\n",
      "|550489113468866561|The week's winner...|2015-01-01|the weeks winners...| NEGATIVE| 0.958871066570282|         AAPL|\n",
      "|550500144794578946|\"\"\"@WSJ: Jeff Bez...|2015-01-01|jeff bezos lost 7...| NEGATIVE|0.9996873140335083|         AMZN|\n",
      "|550502942407929857|Yes to the first ...|2015-01-01|yes to the first ...| NEGATIVE|0.9949236512184143|         AAPL|\n",
      "|550503223485009920|If you had a fant...|2015-01-01|if you had a fant...| POSITIVE|0.9943032264709473|         AAPL|\n",
      "|550505446134386689|Stock of the Year...|2015-01-01|stock of the year...| NEGATIVE|0.9892280101776123|         AAPL|\n",
      "|550514037155704832|@skupor @business...|2015-01-01|hmm maybe peer se...| NEGATIVE|0.9993983507156372|         AAPL|\n",
      "|550515119432937472|Jeff Bezos lost $...|2015-01-01|jeff bezos lost 7...| NEGATIVE|0.9997345805168152|         AMZN|\n",
      "|550521659044552706|\"Commented on: \"\"...|2015-01-01|commented on 2015...| POSITIVE| 0.759372889995575|         AAPL|\n",
      "|550530027012382721|Apple: Asian Carr...|2015-01-01|apple asian carri...| NEGATIVE|0.9946234226226807|         AAPL|\n",
      "|550530027012382721|Apple: Asian Carr...|2015-01-01|apple asian carri...| NEGATIVE|0.9946234226226807|         GOOG|\n",
      "|550541197421588480|$GOOGL - Music Do...|2015-01-01|googl  music down...| POSITIVE|0.5618365406990051|         GOOG|\n",
      "|550541216262402048|$GOOG - Music Dow...|2015-01-01|goog  music downl...| POSITIVE|0.6054012775421143|         GOOG|\n",
      "+------------------+--------------------+----------+--------------------+---------+------------------+-------------+\n",
      "only showing top 20 rows\n",
      "\n"
     ]
    },
    {
     "name": "stderr",
     "output_type": "stream",
     "text": [
      "\r",
      "                                                                                \r"
     ]
    }
   ],
   "source": [
    "joined_df.show()"
   ]
  },
  {
   "cell_type": "markdown",
   "id": "d6cea295",
   "metadata": {},
   "source": [
    "## calculating a single sentiment score for a company for a day"
   ]
  },
  {
   "cell_type": "markdown",
   "id": "c740126f",
   "metadata": {},
   "source": [
    "## BERT"
   ]
  },
  {
   "cell_type": "code",
   "execution_count": 51,
   "id": "1fcf461c",
   "metadata": {
    "scrolled": true
   },
   "outputs": [
    {
     "name": "stderr",
     "output_type": "stream",
     "text": [
      "24/09/03 01:42:50 WARN TaskSetManager: Stage 106 contains a task of very large size (7430 KiB). The maximum recommended task size is 1000 KiB.\n",
      "24/09/03 01:42:52 WARN RowBasedKeyValueBatch: Calling spill() on RowBasedKeyValueBatch. Will not spill but return 0.\n",
      "24/09/03 01:42:52 WARN RowBasedKeyValueBatch: Calling spill() on RowBasedKeyValueBatch. Will not spill but return 0.\n",
      "24/09/03 01:42:52 WARN RowBasedKeyValueBatch: Calling spill() on RowBasedKeyValueBatch. Will not spill but return 0.\n",
      "24/09/03 01:42:52 WARN RowBasedKeyValueBatch: Calling spill() on RowBasedKeyValueBatch. Will not spill but return 0.\n",
      "                                                                                \r"
     ]
    },
    {
     "data": {
      "text/plain": [
       "32875"
      ]
     },
     "execution_count": 51,
     "metadata": {},
     "output_type": "execute_result"
    }
   ],
   "source": [
    "# Select distinct values in the 'sentiment' column\n",
    "unique_sentiments = joined_df.select('sentiment').distinct().count()\n",
    "\n",
    "# Show the unique sentiment values\n",
    "unique_sentiments"
   ]
  },
  {
   "cell_type": "code",
   "execution_count": 54,
   "id": "793b3f97",
   "metadata": {
    "scrolled": true
   },
   "outputs": [
    {
     "name": "stderr",
     "output_type": "stream",
     "text": [
      "24/09/03 01:46:29 WARN TaskSetManager: Stage 135 contains a task of very large size (7430 KiB). The maximum recommended task size is 1000 KiB.\n",
      "24/09/03 01:46:31 WARN TaskSetManager: Stage 144 contains a task of very large size (7430 KiB). The maximum recommended task size is 1000 KiB.\n",
      "[Stage 144:=======>                                                 (1 + 7) / 8]\r"
     ]
    },
    {
     "name": "stdout",
     "output_type": "stream",
     "text": [
      "Number of Positive Sentiments: 769264\n",
      "Number of Negative Sentiments: 3520530\n"
     ]
    },
    {
     "name": "stderr",
     "output_type": "stream",
     "text": [
      "\r",
      "                                                                                \r"
     ]
    }
   ],
   "source": [
    "# Count the number of positive sentiments\n",
    "positive_count = joined_df.filter(col('sentiment') == 'POSITIVE').count()\n",
    "\n",
    "# Count the number of negative sentiments\n",
    "negative_count = joined_df.filter(col('sentiment') == 'NEGATIVE').count()\n",
    "\n",
    "# Display the counts\n",
    "print(f\"Number of Positive Sentiments: {positive_count}\")\n",
    "print(f\"Number of Negative Sentiments: {negative_count}\")"
   ]
  },
  {
   "cell_type": "code",
   "execution_count": 56,
   "id": "db2525a8",
   "metadata": {
    "scrolled": true
   },
   "outputs": [
    {
     "name": "stderr",
     "output_type": "stream",
     "text": [
      "24/09/03 01:48:01 WARN TaskSetManager: Stage 156 contains a task of very large size (7430 KiB). The maximum recommended task size is 1000 KiB.\n",
      "                                                                                \r"
     ]
    },
    {
     "data": {
      "text/plain": [
       "4336445"
      ]
     },
     "execution_count": 56,
     "metadata": {},
     "output_type": "execute_result"
    }
   ],
   "source": [
    "joined_df.count()"
   ]
  },
  {
   "cell_type": "code",
   "execution_count": 58,
   "id": "7f93619d",
   "metadata": {},
   "outputs": [],
   "source": [
    "joined_df = joined_df.filter((col('sentiment') == 'POSITIVE') | (col('sentiment') == 'NEGATIVE'))"
   ]
  },
  {
   "cell_type": "code",
   "execution_count": 59,
   "id": "056d1710",
   "metadata": {},
   "outputs": [
    {
     "name": "stderr",
     "output_type": "stream",
     "text": [
      "24/09/03 01:50:00 WARN TaskSetManager: Stage 165 contains a task of very large size (7430 KiB). The maximum recommended task size is 1000 KiB.\n",
      "                                                                                \r"
     ]
    },
    {
     "data": {
      "text/plain": [
       "4289794"
      ]
     },
     "execution_count": 59,
     "metadata": {},
     "output_type": "execute_result"
    }
   ],
   "source": [
    "joined_df.count()"
   ]
  },
  {
   "cell_type": "code",
   "execution_count": 45,
   "id": "d218b5f2",
   "metadata": {},
   "outputs": [
    {
     "name": "stdout",
     "output_type": "stream",
     "text": [
      "root\n",
      " |-- tweet_id: long (nullable = true)\n",
      " |-- body: string (nullable = true)\n",
      " |-- day_date: date (nullable = true)\n",
      " |-- cleaned_body: string (nullable = true)\n",
      " |-- sentiment: string (nullable = true)\n",
      " |-- sentiment_score: string (nullable = true)\n",
      " |-- ticker_symbol: string (nullable = true)\n",
      "\n"
     ]
    }
   ],
   "source": [
    "joined_df.printSchema()"
   ]
  },
  {
   "cell_type": "code",
   "execution_count": 60,
   "id": "52fe3827",
   "metadata": {},
   "outputs": [],
   "source": [
    "joined_df = joined_df.withColumn(\"sentiment_score\", col(\"sentiment_score\").cast(\"float\"))"
   ]
  },
  {
   "cell_type": "code",
   "execution_count": 61,
   "id": "e79d3440",
   "metadata": {},
   "outputs": [
    {
     "name": "stdout",
     "output_type": "stream",
     "text": [
      "root\n",
      " |-- tweet_id: long (nullable = true)\n",
      " |-- body: string (nullable = true)\n",
      " |-- day_date: date (nullable = true)\n",
      " |-- cleaned_body: string (nullable = true)\n",
      " |-- sentiment: string (nullable = true)\n",
      " |-- sentiment_score: float (nullable = true)\n",
      " |-- ticker_symbol: string (nullable = true)\n",
      "\n"
     ]
    }
   ],
   "source": [
    "joined_df.printSchema()"
   ]
  },
  {
   "cell_type": "code",
   "execution_count": 62,
   "id": "82f3a86a",
   "metadata": {},
   "outputs": [
    {
     "name": "stderr",
     "output_type": "stream",
     "text": [
      "24/09/03 01:52:18 WARN TaskSetManager: Stage 174 contains a task of very large size (7430 KiB). The maximum recommended task size is 1000 KiB.\n",
      "[Stage 174:=================================================>       (7 + 1) / 8]\r"
     ]
    },
    {
     "name": "stdout",
     "output_type": "stream",
     "text": [
      "+------------------+--------------------+----------+--------------------+---------+---------------+-------------+\n",
      "|          tweet_id|                body|  day_date|        cleaned_body|sentiment|sentiment_score|ticker_symbol|\n",
      "+------------------+--------------------+----------+--------------------+---------+---------------+-------------+\n",
      "|550447574285418497|We searched throu...|2015-01-01|we searched throu...| POSITIVE|     0.99867934|         AAPL|\n",
      "|550450683309072384|Clay Trader Apple...|2015-01-01|clay trader apple...| NEGATIVE|     0.99479574|         AAPL|\n",
      "|550455355134578688|http://StockAviat...|2015-01-01|penny stocks nyse...| NEGATIVE|      0.9938943|         MSFT|\n",
      "|550460180631011328|$AMZN OI for matu...|2015-01-01|amzn oi for matur...| NEGATIVE|      0.5678575|         AMZN|\n",
      "|550461555423584257|Prediction: $TWTR...|2015-01-01|prediction twtr g...| NEGATIVE|       0.942871|         GOOG|\n",
      "|550461555423584257|Prediction: $TWTR...|2015-01-01|prediction twtr g...| NEGATIVE|       0.942871|         GOOG|\n",
      "|550471631034806273|World’s 400 Riche...|2015-01-01|worlds 400 riches...| POSITIVE|      0.9916072|         AMZN|\n",
      "|550471634742542336|World’s 400 Riche...|2015-01-01|worlds 400 riches...| POSITIVE|      0.9916072|         AMZN|\n",
      "|550489113468866561|The week's winner...|2015-01-01|the weeks winners...| NEGATIVE|     0.95887107|         AAPL|\n",
      "|550500144794578946|\"\"\"@WSJ: Jeff Bez...|2015-01-01|jeff bezos lost 7...| NEGATIVE|      0.9996873|         AMZN|\n",
      "|550502942407929857|Yes to the first ...|2015-01-01|yes to the first ...| NEGATIVE|     0.99492365|         AAPL|\n",
      "|550503223485009920|If you had a fant...|2015-01-01|if you had a fant...| POSITIVE|      0.9943032|         AAPL|\n",
      "|550505446134386689|Stock of the Year...|2015-01-01|stock of the year...| NEGATIVE|       0.989228|         AAPL|\n",
      "|550514037155704832|@skupor @business...|2015-01-01|hmm maybe peer se...| NEGATIVE|     0.99939835|         AAPL|\n",
      "|550515119432937472|Jeff Bezos lost $...|2015-01-01|jeff bezos lost 7...| NEGATIVE|      0.9997346|         AMZN|\n",
      "|550521659044552706|\"Commented on: \"\"...|2015-01-01|commented on 2015...| POSITIVE|      0.7593729|         AAPL|\n",
      "|550530027012382721|Apple: Asian Carr...|2015-01-01|apple asian carri...| NEGATIVE|      0.9946234|         AAPL|\n",
      "|550530027012382721|Apple: Asian Carr...|2015-01-01|apple asian carri...| NEGATIVE|      0.9946234|         GOOG|\n",
      "|550541197421588480|$GOOGL - Music Do...|2015-01-01|googl  music down...| POSITIVE|     0.56183654|         GOOG|\n",
      "|550541216262402048|$GOOG - Music Dow...|2015-01-01|goog  music downl...| POSITIVE|      0.6054013|         GOOG|\n",
      "+------------------+--------------------+----------+--------------------+---------+---------------+-------------+\n",
      "only showing top 20 rows\n",
      "\n"
     ]
    },
    {
     "name": "stderr",
     "output_type": "stream",
     "text": [
      "\r",
      "                                                                                \r"
     ]
    }
   ],
   "source": [
    "joined_df.show()"
   ]
  },
  {
   "cell_type": "code",
   "execution_count": 65,
   "id": "a2e0272a",
   "metadata": {},
   "outputs": [],
   "source": [
    "from pyspark.sql.functions import col, when, avg\n",
    "\n",
    "# Create a new column 'adjusted_sentiment_score' that assigns negative scores for negative sentiments\n",
    "joined_df = joined_df.withColumn(\n",
    "    'adjusted_sentiment_score',\n",
    "    when(col('sentiment') == 'POSITIVE', col('sentiment_score'))\n",
    "    .otherwise(-col('sentiment_score'))\n",
    ")\n",
    "\n",
    "# Step 3: Calculate the average sentiment score for each day and each company\n",
    "average_daily_sentiment = joined_df.groupBy('day_date', 'ticker_symbol') \\\n",
    "    .agg(avg('adjusted_sentiment_score').alias('daily_sentiment_score'))\n",
    "\n",
    "# Step 4: Create a new DataFrame with only the required columns\n",
    "new_df = average_daily_sentiment.select('day_date', 'ticker_symbol', 'daily_sentiment_score')"
   ]
  },
  {
   "cell_type": "code",
   "execution_count": 67,
   "id": "99ce2cf3",
   "metadata": {},
   "outputs": [
    {
     "name": "stderr",
     "output_type": "stream",
     "text": [
      "24/09/03 01:57:56 WARN TaskSetManager: Stage 188 contains a task of very large size (7430 KiB). The maximum recommended task size is 1000 KiB.\n",
      "24/09/03 01:57:58 WARN RowBasedKeyValueBatch: Calling spill() on RowBasedKeyValueBatch. Will not spill but return 0.\n",
      "24/09/03 01:57:58 WARN RowBasedKeyValueBatch: Calling spill() on RowBasedKeyValueBatch. Will not spill but return 0.\n",
      "24/09/03 01:57:58 WARN RowBasedKeyValueBatch: Calling spill() on RowBasedKeyValueBatch. Will not spill but return 0.\n",
      "24/09/03 01:57:58 WARN RowBasedKeyValueBatch: Calling spill() on RowBasedKeyValueBatch. Will not spill but return 0.\n",
      "24/09/03 01:57:58 WARN RowBasedKeyValueBatch: Calling spill() on RowBasedKeyValueBatch. Will not spill but return 0.\n",
      "24/09/03 01:57:58 WARN RowBasedKeyValueBatch: Calling spill() on RowBasedKeyValueBatch. Will not spill but return 0.\n",
      "24/09/03 01:57:58 WARN RowBasedKeyValueBatch: Calling spill() on RowBasedKeyValueBatch. Will not spill but return 0.\n",
      "24/09/03 01:57:58 WARN RowBasedKeyValueBatch: Calling spill() on RowBasedKeyValueBatch. Will not spill but return 0.\n",
      "24/09/03 01:57:58 WARN RowBasedKeyValueBatch: Calling spill() on RowBasedKeyValueBatch. Will not spill but return 0.\n",
      "24/09/03 01:57:58 WARN RowBasedKeyValueBatch: Calling spill() on RowBasedKeyValueBatch. Will not spill but return 0.\n",
      "24/09/03 01:57:58 WARN RowBasedKeyValueBatch: Calling spill() on RowBasedKeyValueBatch. Will not spill but return 0.\n",
      "24/09/03 01:58:04 WARN TaskSetManager: Stage 202 contains a task of very large size (7430 KiB). The maximum recommended task size is 1000 KiB.\n",
      "24/09/03 01:58:08 WARN RowBasedKeyValueBatch: Calling spill() on RowBasedKeyValueBatch. Will not spill but return 0.\n",
      "24/09/03 01:58:08 WARN RowBasedKeyValueBatch: Calling spill() on RowBasedKeyValueBatch. Will not spill but return 0.\n",
      "24/09/03 01:58:08 WARN RowBasedKeyValueBatch: Calling spill() on RowBasedKeyValueBatch. Will not spill but return 0.\n",
      "24/09/03 01:58:08 WARN RowBasedKeyValueBatch: Calling spill() on RowBasedKeyValueBatch. Will not spill but return 0.\n",
      "24/09/03 01:58:08 WARN RowBasedKeyValueBatch: Calling spill() on RowBasedKeyValueBatch. Will not spill but return 0.\n",
      "24/09/03 01:58:08 WARN RowBasedKeyValueBatch: Calling spill() on RowBasedKeyValueBatch. Will not spill but return 0.\n",
      "24/09/03 01:58:08 WARN RowBasedKeyValueBatch: Calling spill() on RowBasedKeyValueBatch. Will not spill but return 0.\n",
      "24/09/03 01:58:08 WARN RowBasedKeyValueBatch: Calling spill() on RowBasedKeyValueBatch. Will not spill but return 0.\n",
      "24/09/03 01:58:09 WARN RowBasedKeyValueBatch: Calling spill() on RowBasedKeyValueBatch. Will not spill but return 0.\n",
      "24/09/03 01:58:09 WARN RowBasedKeyValueBatch: Calling spill() on RowBasedKeyValueBatch. Will not spill but return 0.\n",
      "24/09/03 01:58:09 WARN RowBasedKeyValueBatch: Calling spill() on RowBasedKeyValueBatch. Will not spill but return 0.\n"
     ]
    },
    {
     "name": "stdout",
     "output_type": "stream",
     "text": [
      "Number of rows with Positive Sentiment Score: 3\n",
      "Number of rows with Negative Sentiment Score: 9120\n"
     ]
    },
    {
     "name": "stderr",
     "output_type": "stream",
     "text": [
      "\r",
      "[Stage 205:======================================>                  (6 + 3) / 9]\r",
      "\r",
      "                                                                                \r"
     ]
    }
   ],
   "source": [
    "# Count the number of rows with positive sentiment scores\n",
    "positive_count = new_df.filter(col('daily_sentiment_score') > 0).count()\n",
    "\n",
    "# Count the number of rows with negative sentiment scores\n",
    "negative_count = new_df.filter(col('daily_sentiment_score') < 0).count()\n",
    "\n",
    "# Display the counts\n",
    "print(f\"Number of rows with Positive Sentiment Score: {positive_count}\")\n",
    "print(f\"Number of rows with Negative Sentiment Score: {negative_count}\")"
   ]
  },
  {
   "cell_type": "code",
   "execution_count": 75,
   "id": "5d114282",
   "metadata": {},
   "outputs": [
    {
     "name": "stderr",
     "output_type": "stream",
     "text": [
      "24/09/03 02:25:18 WARN TaskSetManager: Stage 216 contains a task of very large size (7430 KiB). The maximum recommended task size is 1000 KiB.\n",
      "24/09/03 02:25:20 WARN RowBasedKeyValueBatch: Calling spill() on RowBasedKeyValueBatch. Will not spill but return 0.\n",
      "24/09/03 02:25:20 WARN RowBasedKeyValueBatch: Calling spill() on RowBasedKeyValueBatch. Will not spill but return 0.\n",
      "24/09/03 02:25:20 WARN RowBasedKeyValueBatch: Calling spill() on RowBasedKeyValueBatch. Will not spill but return 0.\n",
      "24/09/03 02:25:20 WARN RowBasedKeyValueBatch: Calling spill() on RowBasedKeyValueBatch. Will not spill but return 0.\n",
      "24/09/03 02:25:20 WARN RowBasedKeyValueBatch: Calling spill() on RowBasedKeyValueBatch. Will not spill but return 0.\n",
      "24/09/03 02:25:20 WARN RowBasedKeyValueBatch: Calling spill() on RowBasedKeyValueBatch. Will not spill but return 0.\n",
      "24/09/03 02:25:20 WARN RowBasedKeyValueBatch: Calling spill() on RowBasedKeyValueBatch. Will not spill but return 0.\n",
      "24/09/03 02:25:20 WARN RowBasedKeyValueBatch: Calling spill() on RowBasedKeyValueBatch. Will not spill but return 0.\n",
      "24/09/03 02:25:20 WARN RowBasedKeyValueBatch: Calling spill() on RowBasedKeyValueBatch. Will not spill but return 0.\n",
      "24/09/03 02:25:20 WARN RowBasedKeyValueBatch: Calling spill() on RowBasedKeyValueBatch. Will not spill but return 0.\n",
      "24/09/03 02:25:20 WARN RowBasedKeyValueBatch: Calling spill() on RowBasedKeyValueBatch. Will not spill but return 0.\n",
      "                                                                                \r"
     ]
    }
   ],
   "source": [
    "new_df.write.csv('average_daily_sentiment_bert.csv', header=True)"
   ]
  },
  {
   "cell_type": "code",
   "execution_count": 93,
   "id": "09ff904b",
   "metadata": {},
   "outputs": [
    {
     "name": "stderr",
     "output_type": "stream",
     "text": [
      "24/09/03 02:40:07 WARN TaskSetManager: Stage 234 contains a task of very large size (7430 KiB). The maximum recommended task size is 1000 KiB.\n",
      "24/09/03 02:40:10 WARN RowBasedKeyValueBatch: Calling spill() on RowBasedKeyValueBatch. Will not spill but return 0.\n",
      "24/09/03 02:40:10 WARN RowBasedKeyValueBatch: Calling spill() on RowBasedKeyValueBatch. Will not spill but return 0.\n",
      "24/09/03 02:40:10 WARN RowBasedKeyValueBatch: Calling spill() on RowBasedKeyValueBatch. Will not spill but return 0.\n",
      "24/09/03 02:40:10 WARN RowBasedKeyValueBatch: Calling spill() on RowBasedKeyValueBatch. Will not spill but return 0.\n",
      "24/09/03 02:40:10 WARN RowBasedKeyValueBatch: Calling spill() on RowBasedKeyValueBatch. Will not spill but return 0.\n",
      "                                                                                \r"
     ]
    },
    {
     "data": {
      "text/plain": [
       "9123"
      ]
     },
     "execution_count": 93,
     "metadata": {},
     "output_type": "execute_result"
    }
   ],
   "source": [
    "new_df.count()"
   ]
  },
  {
   "cell_type": "code",
   "execution_count": null,
   "id": "8c41d4bd",
   "metadata": {},
   "outputs": [],
   "source": []
  },
  {
   "cell_type": "markdown",
   "id": "d450b044",
   "metadata": {},
   "source": [
    "## VADER"
   ]
  },
  {
   "cell_type": "code",
   "execution_count": 68,
   "id": "838239c1",
   "metadata": {},
   "outputs": [],
   "source": [
    "v = pd.read_csv('vader_sentiment_score.csv')"
   ]
  },
  {
   "cell_type": "code",
   "execution_count": 69,
   "id": "5509ff87",
   "metadata": {
    "scrolled": true
   },
   "outputs": [
    {
     "data": {
      "text/html": [
       "<div>\n",
       "<style scoped>\n",
       "    .dataframe tbody tr th:only-of-type {\n",
       "        vertical-align: middle;\n",
       "    }\n",
       "\n",
       "    .dataframe tbody tr th {\n",
       "        vertical-align: top;\n",
       "    }\n",
       "\n",
       "    .dataframe thead th {\n",
       "        text-align: right;\n",
       "    }\n",
       "</style>\n",
       "<table border=\"1\" class=\"dataframe\">\n",
       "  <thead>\n",
       "    <tr style=\"text-align: right;\">\n",
       "      <th></th>\n",
       "      <th>tweet_id</th>\n",
       "      <th>body</th>\n",
       "      <th>day_date</th>\n",
       "      <th>cleaned_body</th>\n",
       "      <th>sentiment_score</th>\n",
       "    </tr>\n",
       "  </thead>\n",
       "  <tbody>\n",
       "    <tr>\n",
       "      <th>0</th>\n",
       "      <td>550441509175443456</td>\n",
       "      <td>lx21 made $10,008  on $AAPL -Check it out! htt...</td>\n",
       "      <td>2015-01-01</td>\n",
       "      <td>lx21 made 10008  on AAPL Check it out  Learn  ...</td>\n",
       "      <td>0.0000</td>\n",
       "    </tr>\n",
       "    <tr>\n",
       "      <th>1</th>\n",
       "      <td>550441672312512512</td>\n",
       "      <td>Insanity of today weirdo massive selling. $aap...</td>\n",
       "      <td>2015-01-01</td>\n",
       "      <td>Insanity of today weirdo massive selling aapl ...</td>\n",
       "      <td>-0.8271</td>\n",
       "    </tr>\n",
       "    <tr>\n",
       "      <th>2</th>\n",
       "      <td>550441732014223360</td>\n",
       "      <td>S&amp;P100 #Stocks Performance $HD $LOW $SBUX $TGT...</td>\n",
       "      <td>2015-01-01</td>\n",
       "      <td>SP100  Performance HD LOW SBUX TGT DVN IBM AMZ...</td>\n",
       "      <td>-0.4278</td>\n",
       "    </tr>\n",
       "    <tr>\n",
       "      <th>3</th>\n",
       "      <td>550442977802207232</td>\n",
       "      <td>$GM $TSLA: Volkswagen Pushes 2014 Record Recal...</td>\n",
       "      <td>2015-01-01</td>\n",
       "      <td>GM TSLA Volkswagen Pushes 2014 Record Recall T...</td>\n",
       "      <td>0.0000</td>\n",
       "    </tr>\n",
       "    <tr>\n",
       "      <th>4</th>\n",
       "      <td>550443807834402816</td>\n",
       "      <td>Swing Trading: Up To 8.91% Return In 14 Days h...</td>\n",
       "      <td>2015-01-01</td>\n",
       "      <td>Swing Trading Up To 891 Return In 14 Days     ...</td>\n",
       "      <td>0.0000</td>\n",
       "    </tr>\n",
       "  </tbody>\n",
       "</table>\n",
       "</div>"
      ],
      "text/plain": [
       "             tweet_id                                               body  \\\n",
       "0  550441509175443456  lx21 made $10,008  on $AAPL -Check it out! htt...   \n",
       "1  550441672312512512  Insanity of today weirdo massive selling. $aap...   \n",
       "2  550441732014223360  S&P100 #Stocks Performance $HD $LOW $SBUX $TGT...   \n",
       "3  550442977802207232  $GM $TSLA: Volkswagen Pushes 2014 Record Recal...   \n",
       "4  550443807834402816  Swing Trading: Up To 8.91% Return In 14 Days h...   \n",
       "\n",
       "     day_date                                       cleaned_body  \\\n",
       "0  2015-01-01  lx21 made 10008  on AAPL Check it out  Learn  ...   \n",
       "1  2015-01-01  Insanity of today weirdo massive selling aapl ...   \n",
       "2  2015-01-01  SP100  Performance HD LOW SBUX TGT DVN IBM AMZ...   \n",
       "3  2015-01-01  GM TSLA Volkswagen Pushes 2014 Record Recall T...   \n",
       "4  2015-01-01  Swing Trading Up To 891 Return In 14 Days     ...   \n",
       "\n",
       "   sentiment_score  \n",
       "0           0.0000  \n",
       "1          -0.8271  \n",
       "2          -0.4278  \n",
       "3           0.0000  \n",
       "4           0.0000  "
      ]
     },
     "execution_count": 69,
     "metadata": {},
     "output_type": "execute_result"
    }
   ],
   "source": [
    "v.head()"
   ]
  },
  {
   "cell_type": "code",
   "execution_count": 78,
   "id": "3070c532",
   "metadata": {},
   "outputs": [],
   "source": [
    "v['day_date']=pd.to_datetime(v['day_date'])"
   ]
  },
  {
   "cell_type": "code",
   "execution_count": 79,
   "id": "6348b803",
   "metadata": {},
   "outputs": [
    {
     "name": "stdout",
     "output_type": "stream",
     "text": [
      "<class 'pandas.core.frame.DataFrame'>\n",
      "RangeIndex: 3717964 entries, 0 to 3717963\n",
      "Data columns (total 5 columns):\n",
      " #   Column           Dtype         \n",
      "---  ------           -----         \n",
      " 0   tweet_id         int64         \n",
      " 1   body             object        \n",
      " 2   day_date         datetime64[ns]\n",
      " 3   cleaned_body     object        \n",
      " 4   sentiment_score  float64       \n",
      "dtypes: datetime64[ns](1), float64(1), int64(1), object(2)\n",
      "memory usage: 141.8+ MB\n"
     ]
    }
   ],
   "source": [
    "v.info()"
   ]
  },
  {
   "cell_type": "code",
   "execution_count": 82,
   "id": "b89d8524",
   "metadata": {},
   "outputs": [],
   "source": [
    "merged_df = pd.merge(v, company_tweet[['tweet_id', 'ticker_symbol']], on='tweet_id', how='inner')"
   ]
  },
  {
   "cell_type": "code",
   "execution_count": 86,
   "id": "9b33664e",
   "metadata": {},
   "outputs": [],
   "source": [
    "avg_sentiment = merged_df.groupby(['day_date', 'ticker_symbol'])['sentiment_score'].mean().reset_index()\n",
    "\n",
    "avg_sentiment.rename(columns={'sentiment_score': 'avg_sentiment_score'}, inplace=True)"
   ]
  },
  {
   "cell_type": "code",
   "execution_count": 91,
   "id": "eeab17ad",
   "metadata": {},
   "outputs": [
    {
     "data": {
      "text/plain": [
       "day_date               82\n",
       "ticker_symbol          82\n",
       "avg_sentiment_score    82\n",
       "dtype: int64"
      ]
     },
     "execution_count": 91,
     "metadata": {},
     "output_type": "execute_result"
    }
   ],
   "source": [
    "avg_sentiment[avg_sentiment['avg_sentiment_score']<0].count()"
   ]
  },
  {
   "cell_type": "code",
   "execution_count": 96,
   "id": "a0d123a4",
   "metadata": {},
   "outputs": [],
   "source": [
    "avg_sentiment.to_csv('average_daily_sentiment_vader.csv')"
   ]
  },
  {
   "cell_type": "code",
   "execution_count": 116,
   "id": "ccd12b37",
   "metadata": {
    "scrolled": true
   },
   "outputs": [
    {
     "data": {
      "text/plain": [
       "Timestamp('2019-12-31 00:00:00')"
      ]
     },
     "execution_count": 116,
     "metadata": {},
     "output_type": "execute_result"
    }
   ],
   "source": [
    "avg_sentiment['day_date'].max()"
   ]
  },
  {
   "cell_type": "code",
   "execution_count": null,
   "id": "6d9fdee1",
   "metadata": {},
   "outputs": [],
   "source": []
  },
  {
   "cell_type": "markdown",
   "id": "438bc61f",
   "metadata": {},
   "source": [
    "# stock data performance categ"
   ]
  },
  {
   "cell_type": "code",
   "execution_count": 102,
   "id": "806be288",
   "metadata": {},
   "outputs": [
    {
     "data": {
      "text/html": [
       "<div>\n",
       "<style scoped>\n",
       "    .dataframe tbody tr th:only-of-type {\n",
       "        vertical-align: middle;\n",
       "    }\n",
       "\n",
       "    .dataframe tbody tr th {\n",
       "        vertical-align: top;\n",
       "    }\n",
       "\n",
       "    .dataframe thead th {\n",
       "        text-align: right;\n",
       "    }\n",
       "</style>\n",
       "<table border=\"1\" class=\"dataframe\">\n",
       "  <thead>\n",
       "    <tr style=\"text-align: right;\">\n",
       "      <th></th>\n",
       "      <th>ticker_symbol</th>\n",
       "      <th>day_date</th>\n",
       "      <th>close_value</th>\n",
       "      <th>volume</th>\n",
       "      <th>open_value</th>\n",
       "      <th>high_value</th>\n",
       "      <th>low_value</th>\n",
       "    </tr>\n",
       "  </thead>\n",
       "  <tbody>\n",
       "    <tr>\n",
       "      <th>0</th>\n",
       "      <td>AAPL</td>\n",
       "      <td>2020-05-29</td>\n",
       "      <td>317.94</td>\n",
       "      <td>38399530</td>\n",
       "      <td>319.25</td>\n",
       "      <td>321.15</td>\n",
       "      <td>316.47</td>\n",
       "    </tr>\n",
       "    <tr>\n",
       "      <th>1</th>\n",
       "      <td>AAPL</td>\n",
       "      <td>2020-05-28</td>\n",
       "      <td>318.25</td>\n",
       "      <td>33449100</td>\n",
       "      <td>316.77</td>\n",
       "      <td>323.44</td>\n",
       "      <td>315.63</td>\n",
       "    </tr>\n",
       "    <tr>\n",
       "      <th>2</th>\n",
       "      <td>AAPL</td>\n",
       "      <td>2020-05-27</td>\n",
       "      <td>318.11</td>\n",
       "      <td>28236270</td>\n",
       "      <td>316.14</td>\n",
       "      <td>318.71</td>\n",
       "      <td>313.09</td>\n",
       "    </tr>\n",
       "    <tr>\n",
       "      <th>3</th>\n",
       "      <td>AAPL</td>\n",
       "      <td>2020-05-26</td>\n",
       "      <td>316.73</td>\n",
       "      <td>31380450</td>\n",
       "      <td>323.50</td>\n",
       "      <td>324.24</td>\n",
       "      <td>316.50</td>\n",
       "    </tr>\n",
       "    <tr>\n",
       "      <th>4</th>\n",
       "      <td>AAPL</td>\n",
       "      <td>2020-05-22</td>\n",
       "      <td>318.89</td>\n",
       "      <td>20450750</td>\n",
       "      <td>315.77</td>\n",
       "      <td>319.23</td>\n",
       "      <td>315.35</td>\n",
       "    </tr>\n",
       "  </tbody>\n",
       "</table>\n",
       "</div>"
      ],
      "text/plain": [
       "  ticker_symbol   day_date  close_value    volume  open_value  high_value  \\\n",
       "0          AAPL 2020-05-29       317.94  38399530      319.25      321.15   \n",
       "1          AAPL 2020-05-28       318.25  33449100      316.77      323.44   \n",
       "2          AAPL 2020-05-27       318.11  28236270      316.14      318.71   \n",
       "3          AAPL 2020-05-26       316.73  31380450      323.50      324.24   \n",
       "4          AAPL 2020-05-22       318.89  20450750      315.77      319.23   \n",
       "\n",
       "   low_value  \n",
       "0     316.47  \n",
       "1     315.63  \n",
       "2     313.09  \n",
       "3     316.50  \n",
       "4     315.35  "
      ]
     },
     "execution_count": 102,
     "metadata": {},
     "output_type": "execute_result"
    }
   ],
   "source": [
    "company_value.head()"
   ]
  },
  {
   "cell_type": "code",
   "execution_count": 103,
   "id": "18e40ee1",
   "metadata": {},
   "outputs": [
    {
     "name": "stdout",
     "output_type": "stream",
     "text": [
      "<class 'pandas.core.frame.DataFrame'>\n",
      "RangeIndex: 17528 entries, 0 to 17527\n",
      "Data columns (total 7 columns):\n",
      " #   Column         Non-Null Count  Dtype         \n",
      "---  ------         --------------  -----         \n",
      " 0   ticker_symbol  17528 non-null  object        \n",
      " 1   day_date       17528 non-null  datetime64[ns]\n",
      " 2   close_value    17528 non-null  float64       \n",
      " 3   volume         17528 non-null  int64         \n",
      " 4   open_value     17528 non-null  float64       \n",
      " 5   high_value     17528 non-null  float64       \n",
      " 6   low_value      17528 non-null  float64       \n",
      "dtypes: datetime64[ns](1), float64(4), int64(1), object(1)\n",
      "memory usage: 958.7+ KB\n"
     ]
    }
   ],
   "source": [
    "company_value.info()"
   ]
  },
  {
   "cell_type": "code",
   "execution_count": 104,
   "id": "90e10728",
   "metadata": {},
   "outputs": [],
   "source": [
    "# Sort the DataFrame by 'ticker_symbol' and 'day_date' to ensure correct order\n",
    "stock_df = company_value.sort_values(by=['ticker_symbol', 'day_date'])\n",
    "\n",
    "# Calculate the previous day's close value within each ticker symbol group\n",
    "stock_df['previous_close'] = stock_df.groupby('ticker_symbol')['close_value'].shift(1)\n",
    "\n",
    "# Determine if the stock showed growth or decline\n",
    "# Handle cases where 'previous_close' is NaN (such as the first day for each ticker symbol)\n",
    "stock_df['stock_performance'] = stock_df.apply(\n",
    "    lambda row: 'growth' if pd.notna(row['previous_close']) and row['close_value'] > row['previous_close'] else \n",
    "                ('decline' if pd.notna(row['previous_close']) and row['close_value'] < row['previous_close'] else 'no_change'), axis=1)\n"
   ]
  },
  {
   "cell_type": "code",
   "execution_count": 107,
   "id": "ee678955",
   "metadata": {},
   "outputs": [],
   "source": [
    "stock_df.reset_index(drop=True, inplace=True)"
   ]
  },
  {
   "cell_type": "code",
   "execution_count": 108,
   "id": "c11c8f56",
   "metadata": {
    "scrolled": true
   },
   "outputs": [
    {
     "data": {
      "text/html": [
       "<div>\n",
       "<style scoped>\n",
       "    .dataframe tbody tr th:only-of-type {\n",
       "        vertical-align: middle;\n",
       "    }\n",
       "\n",
       "    .dataframe tbody tr th {\n",
       "        vertical-align: top;\n",
       "    }\n",
       "\n",
       "    .dataframe thead th {\n",
       "        text-align: right;\n",
       "    }\n",
       "</style>\n",
       "<table border=\"1\" class=\"dataframe\">\n",
       "  <thead>\n",
       "    <tr style=\"text-align: right;\">\n",
       "      <th></th>\n",
       "      <th>ticker_symbol</th>\n",
       "      <th>day_date</th>\n",
       "      <th>close_value</th>\n",
       "      <th>volume</th>\n",
       "      <th>open_value</th>\n",
       "      <th>high_value</th>\n",
       "      <th>low_value</th>\n",
       "      <th>previous_close</th>\n",
       "      <th>stock_performance</th>\n",
       "    </tr>\n",
       "  </thead>\n",
       "  <tbody>\n",
       "    <tr>\n",
       "      <th>0</th>\n",
       "      <td>AAPL</td>\n",
       "      <td>2010-06-01</td>\n",
       "      <td>37.2614</td>\n",
       "      <td>218455576</td>\n",
       "      <td>37.0986</td>\n",
       "      <td>37.9914</td>\n",
       "      <td>36.9943</td>\n",
       "      <td>NaN</td>\n",
       "      <td>no_change</td>\n",
       "    </tr>\n",
       "    <tr>\n",
       "      <th>1</th>\n",
       "      <td>AAPL</td>\n",
       "      <td>2010-06-02</td>\n",
       "      <td>37.7071</td>\n",
       "      <td>171594061</td>\n",
       "      <td>37.7914</td>\n",
       "      <td>37.8286</td>\n",
       "      <td>37.1907</td>\n",
       "      <td>37.2614</td>\n",
       "      <td>growth</td>\n",
       "    </tr>\n",
       "    <tr>\n",
       "      <th>2</th>\n",
       "      <td>AAPL</td>\n",
       "      <td>2010-06-03</td>\n",
       "      <td>37.5886</td>\n",
       "      <td>162341809</td>\n",
       "      <td>37.8828</td>\n",
       "      <td>37.9357</td>\n",
       "      <td>37.2014</td>\n",
       "      <td>37.7071</td>\n",
       "      <td>decline</td>\n",
       "    </tr>\n",
       "    <tr>\n",
       "      <th>3</th>\n",
       "      <td>AAPL</td>\n",
       "      <td>2010-06-04</td>\n",
       "      <td>36.5664</td>\n",
       "      <td>189045767</td>\n",
       "      <td>36.8871</td>\n",
       "      <td>37.4143</td>\n",
       "      <td>36.3757</td>\n",
       "      <td>37.5886</td>\n",
       "      <td>decline</td>\n",
       "    </tr>\n",
       "    <tr>\n",
       "      <th>4</th>\n",
       "      <td>AAPL</td>\n",
       "      <td>2010-06-07</td>\n",
       "      <td>35.8486</td>\n",
       "      <td>221253336</td>\n",
       "      <td>36.8986</td>\n",
       "      <td>37.0214</td>\n",
       "      <td>35.7928</td>\n",
       "      <td>36.5664</td>\n",
       "      <td>decline</td>\n",
       "    </tr>\n",
       "  </tbody>\n",
       "</table>\n",
       "</div>"
      ],
      "text/plain": [
       "  ticker_symbol   day_date  close_value     volume  open_value  high_value  \\\n",
       "0          AAPL 2010-06-01      37.2614  218455576     37.0986     37.9914   \n",
       "1          AAPL 2010-06-02      37.7071  171594061     37.7914     37.8286   \n",
       "2          AAPL 2010-06-03      37.5886  162341809     37.8828     37.9357   \n",
       "3          AAPL 2010-06-04      36.5664  189045767     36.8871     37.4143   \n",
       "4          AAPL 2010-06-07      35.8486  221253336     36.8986     37.0214   \n",
       "\n",
       "   low_value  previous_close stock_performance  \n",
       "0    36.9943             NaN         no_change  \n",
       "1    37.1907         37.2614            growth  \n",
       "2    37.2014         37.7071           decline  \n",
       "3    36.3757         37.5886           decline  \n",
       "4    35.7928         36.5664           decline  "
      ]
     },
     "execution_count": 108,
     "metadata": {},
     "output_type": "execute_result"
    }
   ],
   "source": [
    "stock_df.head()"
   ]
  },
  {
   "cell_type": "code",
   "execution_count": 112,
   "id": "e75d2587",
   "metadata": {
    "scrolled": true
   },
   "outputs": [
    {
     "name": "stdout",
     "output_type": "stream",
     "text": [
      "7460\n",
      "7751\n",
      "2317\n"
     ]
    }
   ],
   "source": [
    "print(stock_df[stock_df['stock_performance']== 'decline'].shape[0])\n",
    "print(stock_df[stock_df['stock_performance']== 'growth'].shape[0])\n",
    "print(stock_df[stock_df['stock_performance']== 'no_change'].shape[0])"
   ]
  },
  {
   "cell_type": "code",
   "execution_count": 117,
   "id": "cdf1ca39",
   "metadata": {},
   "outputs": [],
   "source": [
    "# Filter out 'no_change' rows\n",
    "filtered_df = stock_df[stock_df['stock_performance'] != 'no_change']\n",
    "\n",
    "# Filter rows based on the date range (2015 to 2020)\n",
    "filtered_df = filtered_df[(filtered_df['day_date'] >= '2015-01-01') & (filtered_df['day_date'] <= '2020-12-31')]"
   ]
  },
  {
   "cell_type": "code",
   "execution_count": 119,
   "id": "74cd9db3",
   "metadata": {},
   "outputs": [],
   "source": [
    "filtered_df.reset_index(drop=True, inplace=True)"
   ]
  },
  {
   "cell_type": "code",
   "execution_count": 120,
   "id": "2d85af92",
   "metadata": {
    "scrolled": true
   },
   "outputs": [
    {
     "name": "stdout",
     "output_type": "stream",
     "text": [
      "<class 'pandas.core.frame.DataFrame'>\n",
      "RangeIndex: 9284 entries, 0 to 9283\n",
      "Data columns (total 9 columns):\n",
      " #   Column             Non-Null Count  Dtype         \n",
      "---  ------             --------------  -----         \n",
      " 0   ticker_symbol      9284 non-null   object        \n",
      " 1   day_date           9284 non-null   datetime64[ns]\n",
      " 2   close_value        9284 non-null   float64       \n",
      " 3   volume             9284 non-null   int64         \n",
      " 4   open_value         9284 non-null   float64       \n",
      " 5   high_value         9284 non-null   float64       \n",
      " 6   low_value          9284 non-null   float64       \n",
      " 7   previous_close     9284 non-null   float64       \n",
      " 8   stock_performance  9284 non-null   object        \n",
      "dtypes: datetime64[ns](1), float64(5), int64(1), object(2)\n",
      "memory usage: 652.9+ KB\n"
     ]
    }
   ],
   "source": [
    "filtered_df.info()"
   ]
  },
  {
   "cell_type": "code",
   "execution_count": 121,
   "id": "23fb538c",
   "metadata": {},
   "outputs": [
    {
     "data": {
      "text/plain": [
       "array(['decline', 'growth'], dtype=object)"
      ]
     },
     "execution_count": 121,
     "metadata": {},
     "output_type": "execute_result"
    }
   ],
   "source": [
    "filtered_df['stock_performance'].unique()"
   ]
  },
  {
   "cell_type": "code",
   "execution_count": 122,
   "id": "01a90ed4",
   "metadata": {},
   "outputs": [],
   "source": [
    "filtered_df = filtered_df[['ticker_symbol', 'day_date', 'stock_performance']]"
   ]
  },
  {
   "cell_type": "code",
   "execution_count": 123,
   "id": "e49c7673",
   "metadata": {},
   "outputs": [
    {
     "name": "stdout",
     "output_type": "stream",
     "text": [
      "<class 'pandas.core.frame.DataFrame'>\n",
      "RangeIndex: 9284 entries, 0 to 9283\n",
      "Data columns (total 3 columns):\n",
      " #   Column             Non-Null Count  Dtype         \n",
      "---  ------             --------------  -----         \n",
      " 0   ticker_symbol      9284 non-null   object        \n",
      " 1   day_date           9284 non-null   datetime64[ns]\n",
      " 2   stock_performance  9284 non-null   object        \n",
      "dtypes: datetime64[ns](1), object(2)\n",
      "memory usage: 217.7+ KB\n"
     ]
    }
   ],
   "source": [
    "filtered_df.info()"
   ]
  },
  {
   "cell_type": "code",
   "execution_count": 124,
   "id": "434da471",
   "metadata": {},
   "outputs": [],
   "source": [
    "filtered_df.to_csv('filtered_stock_performance.csv', index=False)"
   ]
  },
  {
   "cell_type": "code",
   "execution_count": null,
   "id": "34d941a0",
   "metadata": {},
   "outputs": [],
   "source": []
  },
  {
   "cell_type": "markdown",
   "id": "b1a1a5a6",
   "metadata": {},
   "source": [
    "# join sentiment score with stock performance"
   ]
  },
  {
   "cell_type": "code",
   "execution_count": 127,
   "id": "5307d57e",
   "metadata": {},
   "outputs": [
    {
     "name": "stdout",
     "output_type": "stream",
     "text": [
      "<class 'pandas.core.frame.DataFrame'>\n",
      "RangeIndex: 9284 entries, 0 to 9283\n",
      "Data columns (total 3 columns):\n",
      " #   Column             Non-Null Count  Dtype         \n",
      "---  ------             --------------  -----         \n",
      " 0   ticker_symbol      9284 non-null   object        \n",
      " 1   day_date           9284 non-null   datetime64[ns]\n",
      " 2   stock_performance  9284 non-null   object        \n",
      "dtypes: datetime64[ns](1), object(2)\n",
      "memory usage: 217.7+ KB\n"
     ]
    }
   ],
   "source": [
    "filtered_df.info()"
   ]
  },
  {
   "cell_type": "code",
   "execution_count": 126,
   "id": "697bf7c0",
   "metadata": {},
   "outputs": [
    {
     "name": "stdout",
     "output_type": "stream",
     "text": [
      "<class 'pandas.core.frame.DataFrame'>\n",
      "RangeIndex: 9123 entries, 0 to 9122\n",
      "Data columns (total 3 columns):\n",
      " #   Column               Non-Null Count  Dtype         \n",
      "---  ------               --------------  -----         \n",
      " 0   day_date             9123 non-null   datetime64[ns]\n",
      " 1   ticker_symbol        9123 non-null   object        \n",
      " 2   avg_sentiment_score  9123 non-null   float64       \n",
      "dtypes: datetime64[ns](1), float64(1), object(1)\n",
      "memory usage: 213.9+ KB\n"
     ]
    }
   ],
   "source": [
    "avg_sentiment.info()"
   ]
  },
  {
   "cell_type": "code",
   "execution_count": 132,
   "id": "54d06de5",
   "metadata": {},
   "outputs": [],
   "source": [
    "avg_sentiment['day_date'] = pd.to_datetime(avg_sentiment['day_date'])\n",
    "\n",
    "# Sort the DataFrame by 'day_date' in ascending order\n",
    "avg_sentiment_vader = avg_sentiment.sort_values(by='day_date', ascending=True)"
   ]
  },
  {
   "cell_type": "code",
   "execution_count": 135,
   "id": "50e29cff",
   "metadata": {},
   "outputs": [],
   "source": [
    "avg_sentiment_vader.reset_index(drop=True, inplace=True)"
   ]
  },
  {
   "cell_type": "code",
   "execution_count": 130,
   "id": "4609ed11",
   "metadata": {},
   "outputs": [],
   "source": [
    "avg_sentiment_bert = pd.read_csv('average_daily_sentiment_bert.csv')"
   ]
  },
  {
   "cell_type": "code",
   "execution_count": 131,
   "id": "3b55a047",
   "metadata": {},
   "outputs": [
    {
     "name": "stdout",
     "output_type": "stream",
     "text": [
      "<class 'pandas.core.frame.DataFrame'>\n",
      "RangeIndex: 9123 entries, 0 to 9122\n",
      "Data columns (total 3 columns):\n",
      " #   Column                 Non-Null Count  Dtype  \n",
      "---  ------                 --------------  -----  \n",
      " 0   day_date               9123 non-null   object \n",
      " 1   ticker_symbol          9123 non-null   object \n",
      " 2   daily_sentiment_score  9123 non-null   float64\n",
      "dtypes: float64(1), object(2)\n",
      "memory usage: 213.9+ KB\n"
     ]
    }
   ],
   "source": [
    "avg_sentiment_bert.info()"
   ]
  },
  {
   "cell_type": "code",
   "execution_count": 133,
   "id": "ce188055",
   "metadata": {},
   "outputs": [],
   "source": [
    "avg_sentiment_bert['day_date'] = pd.to_datetime(avg_sentiment_bert['day_date'])\n",
    "\n",
    "# Sort the DataFrame by 'day_date' in ascending order\n",
    "avg_sentiment_bert = avg_sentiment_bert.sort_values(by='day_date', ascending=True)"
   ]
  },
  {
   "cell_type": "code",
   "execution_count": 136,
   "id": "255af8a3",
   "metadata": {},
   "outputs": [],
   "source": [
    "avg_sentiment_bert.reset_index(drop=True, inplace=True)"
   ]
  },
  {
   "cell_type": "code",
   "execution_count": 137,
   "id": "fdef88c0",
   "metadata": {},
   "outputs": [
    {
     "data": {
      "text/html": [
       "<div>\n",
       "<style scoped>\n",
       "    .dataframe tbody tr th:only-of-type {\n",
       "        vertical-align: middle;\n",
       "    }\n",
       "\n",
       "    .dataframe tbody tr th {\n",
       "        vertical-align: top;\n",
       "    }\n",
       "\n",
       "    .dataframe thead th {\n",
       "        text-align: right;\n",
       "    }\n",
       "</style>\n",
       "<table border=\"1\" class=\"dataframe\">\n",
       "  <thead>\n",
       "    <tr style=\"text-align: right;\">\n",
       "      <th></th>\n",
       "      <th>day_date</th>\n",
       "      <th>ticker_symbol</th>\n",
       "      <th>daily_sentiment_score</th>\n",
       "    </tr>\n",
       "  </thead>\n",
       "  <tbody>\n",
       "    <tr>\n",
       "      <th>0</th>\n",
       "      <td>2015-01-01</td>\n",
       "      <td>GOOG</td>\n",
       "      <td>-0.509290</td>\n",
       "    </tr>\n",
       "    <tr>\n",
       "      <th>1</th>\n",
       "      <td>2015-01-01</td>\n",
       "      <td>AAPL</td>\n",
       "      <td>-0.551329</td>\n",
       "    </tr>\n",
       "    <tr>\n",
       "      <th>2</th>\n",
       "      <td>2015-01-01</td>\n",
       "      <td>MSFT</td>\n",
       "      <td>-0.758167</td>\n",
       "    </tr>\n",
       "    <tr>\n",
       "      <th>3</th>\n",
       "      <td>2015-01-01</td>\n",
       "      <td>TSLA</td>\n",
       "      <td>-0.425761</td>\n",
       "    </tr>\n",
       "    <tr>\n",
       "      <th>4</th>\n",
       "      <td>2015-01-01</td>\n",
       "      <td>AMZN</td>\n",
       "      <td>-0.829177</td>\n",
       "    </tr>\n",
       "  </tbody>\n",
       "</table>\n",
       "</div>"
      ],
      "text/plain": [
       "    day_date ticker_symbol  daily_sentiment_score\n",
       "0 2015-01-01          GOOG              -0.509290\n",
       "1 2015-01-01          AAPL              -0.551329\n",
       "2 2015-01-01          MSFT              -0.758167\n",
       "3 2015-01-01          TSLA              -0.425761\n",
       "4 2015-01-01          AMZN              -0.829177"
      ]
     },
     "execution_count": 137,
     "metadata": {},
     "output_type": "execute_result"
    }
   ],
   "source": [
    "avg_sentiment_bert.head()"
   ]
  },
  {
   "cell_type": "markdown",
   "id": "3319ae4c",
   "metadata": {},
   "source": [
    "## VADER"
   ]
  },
  {
   "cell_type": "code",
   "execution_count": 138,
   "id": "94ed78ef",
   "metadata": {},
   "outputs": [
    {
     "name": "stderr",
     "output_type": "stream",
     "text": [
      "/var/folders/sf/twdrtcxd31b6rkjt8r5mdxr40000gn/T/ipykernel_95751/2421016282.py:2: SettingWithCopyWarning: \n",
      "A value is trying to be set on a copy of a slice from a DataFrame.\n",
      "Try using .loc[row_indexer,col_indexer] = value instead\n",
      "\n",
      "See the caveats in the documentation: https://pandas.pydata.org/pandas-docs/stable/user_guide/indexing.html#returning-a-view-versus-a-copy\n",
      "  filtered_df['day_date'] = pd.to_datetime(filtered_df['day_date'])\n"
     ]
    }
   ],
   "source": [
    "# Convert 'day_date' column to datetime format (if not already done)\n",
    "filtered_df['day_date'] = pd.to_datetime(filtered_df['day_date'])\n",
    "avg_sentiment_vader['day_date'] = pd.to_datetime(avg_sentiment_vader['day_date'])\n",
    "\n",
    "# Sort both DataFrames by 'ticker_symbol' and 'day_date'\n",
    "filtered_df = filtered_df.sort_values(by=['ticker_symbol', 'day_date'])\n",
    "avg_sentiment_vader = avg_sentiment_vader.sort_values(by=['ticker_symbol', 'day_date'])\n",
    "\n",
    "# Shift the sentiment scores by 1 day within each ticker symbol\n",
    "avg_sentiment_vader['prev_avg_sentiment_score'] = avg_sentiment_vader.groupby('ticker_symbol')['avg_sentiment_score'].shift(1)\n",
    "\n",
    "# Merge the shifted sentiment DataFrame with the stock performance DataFrame\n",
    "merged_df = pd.merge(filtered_df, avg_sentiment_vader[['day_date', 'ticker_symbol', 'prev_avg_sentiment_score']], \n",
    "                     on=['day_date', 'ticker_symbol'], how='left')"
   ]
  },
  {
   "cell_type": "code",
   "execution_count": 139,
   "id": "ed5a062e",
   "metadata": {
    "scrolled": false
   },
   "outputs": [
    {
     "data": {
      "text/html": [
       "<div>\n",
       "<style scoped>\n",
       "    .dataframe tbody tr th:only-of-type {\n",
       "        vertical-align: middle;\n",
       "    }\n",
       "\n",
       "    .dataframe tbody tr th {\n",
       "        vertical-align: top;\n",
       "    }\n",
       "\n",
       "    .dataframe thead th {\n",
       "        text-align: right;\n",
       "    }\n",
       "</style>\n",
       "<table border=\"1\" class=\"dataframe\">\n",
       "  <thead>\n",
       "    <tr style=\"text-align: right;\">\n",
       "      <th></th>\n",
       "      <th>ticker_symbol</th>\n",
       "      <th>day_date</th>\n",
       "      <th>stock_performance</th>\n",
       "      <th>prev_avg_sentiment_score</th>\n",
       "    </tr>\n",
       "  </thead>\n",
       "  <tbody>\n",
       "    <tr>\n",
       "      <th>0</th>\n",
       "      <td>AAPL</td>\n",
       "      <td>2015-01-02</td>\n",
       "      <td>decline</td>\n",
       "      <td>0.134369</td>\n",
       "    </tr>\n",
       "    <tr>\n",
       "      <th>1</th>\n",
       "      <td>AAPL</td>\n",
       "      <td>2015-01-05</td>\n",
       "      <td>decline</td>\n",
       "      <td>0.206588</td>\n",
       "    </tr>\n",
       "    <tr>\n",
       "      <th>2</th>\n",
       "      <td>AAPL</td>\n",
       "      <td>2015-01-06</td>\n",
       "      <td>growth</td>\n",
       "      <td>0.128866</td>\n",
       "    </tr>\n",
       "    <tr>\n",
       "      <th>3</th>\n",
       "      <td>AAPL</td>\n",
       "      <td>2015-01-07</td>\n",
       "      <td>growth</td>\n",
       "      <td>0.148750</td>\n",
       "    </tr>\n",
       "    <tr>\n",
       "      <th>4</th>\n",
       "      <td>AAPL</td>\n",
       "      <td>2015-01-08</td>\n",
       "      <td>growth</td>\n",
       "      <td>0.145871</td>\n",
       "    </tr>\n",
       "  </tbody>\n",
       "</table>\n",
       "</div>"
      ],
      "text/plain": [
       "  ticker_symbol   day_date stock_performance  prev_avg_sentiment_score\n",
       "0          AAPL 2015-01-02           decline                  0.134369\n",
       "1          AAPL 2015-01-05           decline                  0.206588\n",
       "2          AAPL 2015-01-06            growth                  0.128866\n",
       "3          AAPL 2015-01-07            growth                  0.148750\n",
       "4          AAPL 2015-01-08            growth                  0.145871"
      ]
     },
     "execution_count": 139,
     "metadata": {},
     "output_type": "execute_result"
    }
   ],
   "source": [
    "merged_df.head()"
   ]
  },
  {
   "cell_type": "code",
   "execution_count": 140,
   "id": "63f550ae",
   "metadata": {
    "scrolled": true
   },
   "outputs": [
    {
     "name": "stdout",
     "output_type": "stream",
     "text": [
      "<class 'pandas.core.frame.DataFrame'>\n",
      "RangeIndex: 9284 entries, 0 to 9283\n",
      "Data columns (total 4 columns):\n",
      " #   Column                    Non-Null Count  Dtype         \n",
      "---  ------                    --------------  -----         \n",
      " 0   ticker_symbol             9284 non-null   object        \n",
      " 1   day_date                  9284 non-null   datetime64[ns]\n",
      " 2   stock_performance         9284 non-null   object        \n",
      " 3   prev_avg_sentiment_score  8662 non-null   float64       \n",
      "dtypes: datetime64[ns](1), float64(1), object(2)\n",
      "memory usage: 290.3+ KB\n"
     ]
    }
   ],
   "source": [
    "merged_df.info()"
   ]
  },
  {
   "cell_type": "code",
   "execution_count": 141,
   "id": "7e8db91e",
   "metadata": {},
   "outputs": [],
   "source": [
    "cleaned_df = merged_df.dropna()"
   ]
  },
  {
   "cell_type": "code",
   "execution_count": 143,
   "id": "adf7082b",
   "metadata": {},
   "outputs": [],
   "source": [
    "cleaned_df.reset_index(drop=True, inplace=True)"
   ]
  },
  {
   "cell_type": "code",
   "execution_count": 144,
   "id": "1da2018a",
   "metadata": {},
   "outputs": [
    {
     "name": "stdout",
     "output_type": "stream",
     "text": [
      "<class 'pandas.core.frame.DataFrame'>\n",
      "RangeIndex: 8662 entries, 0 to 8661\n",
      "Data columns (total 4 columns):\n",
      " #   Column                    Non-Null Count  Dtype         \n",
      "---  ------                    --------------  -----         \n",
      " 0   ticker_symbol             8662 non-null   object        \n",
      " 1   day_date                  8662 non-null   datetime64[ns]\n",
      " 2   stock_performance         8662 non-null   object        \n",
      " 3   prev_avg_sentiment_score  8662 non-null   float64       \n",
      "dtypes: datetime64[ns](1), float64(1), object(2)\n",
      "memory usage: 270.8+ KB\n"
     ]
    }
   ],
   "source": [
    "cleaned_df.info()"
   ]
  },
  {
   "cell_type": "code",
   "execution_count": 146,
   "id": "6de45d7c",
   "metadata": {
    "scrolled": true
   },
   "outputs": [
    {
     "data": {
      "text/html": [
       "<div>\n",
       "<style scoped>\n",
       "    .dataframe tbody tr th:only-of-type {\n",
       "        vertical-align: middle;\n",
       "    }\n",
       "\n",
       "    .dataframe tbody tr th {\n",
       "        vertical-align: top;\n",
       "    }\n",
       "\n",
       "    .dataframe thead th {\n",
       "        text-align: right;\n",
       "    }\n",
       "</style>\n",
       "<table border=\"1\" class=\"dataframe\">\n",
       "  <thead>\n",
       "    <tr style=\"text-align: right;\">\n",
       "      <th></th>\n",
       "      <th>stock_performance</th>\n",
       "      <th>prev_avg_sentiment_score</th>\n",
       "    </tr>\n",
       "  </thead>\n",
       "  <tbody>\n",
       "    <tr>\n",
       "      <th>0</th>\n",
       "      <td>decline</td>\n",
       "      <td>0.133136</td>\n",
       "    </tr>\n",
       "    <tr>\n",
       "      <th>1</th>\n",
       "      <td>growth</td>\n",
       "      <td>0.132264</td>\n",
       "    </tr>\n",
       "  </tbody>\n",
       "</table>\n",
       "</div>"
      ],
      "text/plain": [
       "  stock_performance  prev_avg_sentiment_score\n",
       "0           decline                  0.133136\n",
       "1            growth                  0.132264"
      ]
     },
     "execution_count": 146,
     "metadata": {},
     "output_type": "execute_result"
    }
   ],
   "source": [
    "avg_sentiment_by_performance = cleaned_df.groupby('stock_performance')['prev_avg_sentiment_score'].mean().reset_index()\n",
    "avg_sentiment_by_performance"
   ]
  },
  {
   "cell_type": "code",
   "execution_count": 149,
   "id": "2a3be370",
   "metadata": {},
   "outputs": [],
   "source": [
    "cleaned_df.to_csv('final_vader.csv', index=False)"
   ]
  },
  {
   "cell_type": "code",
   "execution_count": null,
   "id": "479108a6",
   "metadata": {},
   "outputs": [],
   "source": []
  },
  {
   "cell_type": "markdown",
   "id": "40aaa29e",
   "metadata": {},
   "source": [
    "## BERT"
   ]
  },
  {
   "cell_type": "code",
   "execution_count": 150,
   "id": "adff7d74",
   "metadata": {},
   "outputs": [],
   "source": [
    "# Convert 'day_date' column to datetime format (if not already done)\n",
    "#filtered_df['day_date'] = pd.to_datetime(filtered_df['day_date'])\n",
    "avg_sentiment_bert['day_date'] = pd.to_datetime(avg_sentiment_bert['day_date'])\n",
    "\n",
    "# Sort both DataFrames by 'ticker_symbol' and 'day_date'\n",
    "#filtered_df = filtered_df.sort_values(by=['ticker_symbol', 'day_date'])\n",
    "avg_sentiment_bert = avg_sentiment_bert.sort_values(by=['ticker_symbol', 'day_date'])\n",
    "\n",
    "# Shift the sentiment scores by 1 day within each ticker symbol\n",
    "avg_sentiment_bert['prev_avg_sentiment_score'] = avg_sentiment_bert.groupby('ticker_symbol')['daily_sentiment_score'].shift(1)\n",
    "\n",
    "# Merge the shifted sentiment DataFrame with the stock performance DataFrame\n",
    "merged_df = pd.merge(filtered_df, avg_sentiment_bert[['day_date', 'ticker_symbol', 'prev_avg_sentiment_score']], \n",
    "                     on=['day_date', 'ticker_symbol'], how='left')"
   ]
  },
  {
   "cell_type": "code",
   "execution_count": 151,
   "id": "08779056",
   "metadata": {},
   "outputs": [
    {
     "name": "stdout",
     "output_type": "stream",
     "text": [
      "<class 'pandas.core.frame.DataFrame'>\n",
      "RangeIndex: 9284 entries, 0 to 9283\n",
      "Data columns (total 4 columns):\n",
      " #   Column                    Non-Null Count  Dtype         \n",
      "---  ------                    --------------  -----         \n",
      " 0   ticker_symbol             9284 non-null   object        \n",
      " 1   day_date                  9284 non-null   datetime64[ns]\n",
      " 2   stock_performance         9284 non-null   object        \n",
      " 3   prev_avg_sentiment_score  8662 non-null   float64       \n",
      "dtypes: datetime64[ns](1), float64(1), object(2)\n",
      "memory usage: 290.3+ KB\n"
     ]
    }
   ],
   "source": [
    "merged_df.info()"
   ]
  },
  {
   "cell_type": "code",
   "execution_count": 152,
   "id": "25586c93",
   "metadata": {},
   "outputs": [
    {
     "data": {
      "text/html": [
       "<div>\n",
       "<style scoped>\n",
       "    .dataframe tbody tr th:only-of-type {\n",
       "        vertical-align: middle;\n",
       "    }\n",
       "\n",
       "    .dataframe tbody tr th {\n",
       "        vertical-align: top;\n",
       "    }\n",
       "\n",
       "    .dataframe thead th {\n",
       "        text-align: right;\n",
       "    }\n",
       "</style>\n",
       "<table border=\"1\" class=\"dataframe\">\n",
       "  <thead>\n",
       "    <tr style=\"text-align: right;\">\n",
       "      <th></th>\n",
       "      <th>ticker_symbol</th>\n",
       "      <th>day_date</th>\n",
       "      <th>stock_performance</th>\n",
       "      <th>prev_avg_sentiment_score</th>\n",
       "    </tr>\n",
       "  </thead>\n",
       "  <tbody>\n",
       "    <tr>\n",
       "      <th>0</th>\n",
       "      <td>AAPL</td>\n",
       "      <td>2015-01-02</td>\n",
       "      <td>decline</td>\n",
       "      <td>-0.551329</td>\n",
       "    </tr>\n",
       "    <tr>\n",
       "      <th>1</th>\n",
       "      <td>AAPL</td>\n",
       "      <td>2015-01-05</td>\n",
       "      <td>decline</td>\n",
       "      <td>-0.580293</td>\n",
       "    </tr>\n",
       "    <tr>\n",
       "      <th>2</th>\n",
       "      <td>AAPL</td>\n",
       "      <td>2015-01-06</td>\n",
       "      <td>growth</td>\n",
       "      <td>-0.565583</td>\n",
       "    </tr>\n",
       "    <tr>\n",
       "      <th>3</th>\n",
       "      <td>AAPL</td>\n",
       "      <td>2015-01-07</td>\n",
       "      <td>growth</td>\n",
       "      <td>-0.541593</td>\n",
       "    </tr>\n",
       "    <tr>\n",
       "      <th>4</th>\n",
       "      <td>AAPL</td>\n",
       "      <td>2015-01-08</td>\n",
       "      <td>growth</td>\n",
       "      <td>-0.609153</td>\n",
       "    </tr>\n",
       "  </tbody>\n",
       "</table>\n",
       "</div>"
      ],
      "text/plain": [
       "  ticker_symbol   day_date stock_performance  prev_avg_sentiment_score\n",
       "0          AAPL 2015-01-02           decline                 -0.551329\n",
       "1          AAPL 2015-01-05           decline                 -0.580293\n",
       "2          AAPL 2015-01-06            growth                 -0.565583\n",
       "3          AAPL 2015-01-07            growth                 -0.541593\n",
       "4          AAPL 2015-01-08            growth                 -0.609153"
      ]
     },
     "execution_count": 152,
     "metadata": {},
     "output_type": "execute_result"
    }
   ],
   "source": [
    "merged_df.head()"
   ]
  },
  {
   "cell_type": "code",
   "execution_count": 153,
   "id": "612a886c",
   "metadata": {},
   "outputs": [],
   "source": [
    "cleaned_df = merged_df.dropna()"
   ]
  },
  {
   "cell_type": "code",
   "execution_count": 154,
   "id": "dd75e29f",
   "metadata": {},
   "outputs": [],
   "source": [
    "cleaned_df.reset_index(drop=True, inplace=True)"
   ]
  },
  {
   "cell_type": "code",
   "execution_count": 155,
   "id": "a531df24",
   "metadata": {},
   "outputs": [
    {
     "name": "stdout",
     "output_type": "stream",
     "text": [
      "<class 'pandas.core.frame.DataFrame'>\n",
      "RangeIndex: 8662 entries, 0 to 8661\n",
      "Data columns (total 4 columns):\n",
      " #   Column                    Non-Null Count  Dtype         \n",
      "---  ------                    --------------  -----         \n",
      " 0   ticker_symbol             8662 non-null   object        \n",
      " 1   day_date                  8662 non-null   datetime64[ns]\n",
      " 2   stock_performance         8662 non-null   object        \n",
      " 3   prev_avg_sentiment_score  8662 non-null   float64       \n",
      "dtypes: datetime64[ns](1), float64(1), object(2)\n",
      "memory usage: 270.8+ KB\n"
     ]
    }
   ],
   "source": [
    "cleaned_df.info()"
   ]
  },
  {
   "cell_type": "code",
   "execution_count": 156,
   "id": "773c2369",
   "metadata": {},
   "outputs": [
    {
     "data": {
      "text/html": [
       "<div>\n",
       "<style scoped>\n",
       "    .dataframe tbody tr th:only-of-type {\n",
       "        vertical-align: middle;\n",
       "    }\n",
       "\n",
       "    .dataframe tbody tr th {\n",
       "        vertical-align: top;\n",
       "    }\n",
       "\n",
       "    .dataframe thead th {\n",
       "        text-align: right;\n",
       "    }\n",
       "</style>\n",
       "<table border=\"1\" class=\"dataframe\">\n",
       "  <thead>\n",
       "    <tr style=\"text-align: right;\">\n",
       "      <th></th>\n",
       "      <th>stock_performance</th>\n",
       "      <th>prev_avg_sentiment_score</th>\n",
       "    </tr>\n",
       "  </thead>\n",
       "  <tbody>\n",
       "    <tr>\n",
       "      <th>0</th>\n",
       "      <td>decline</td>\n",
       "      <td>-0.692048</td>\n",
       "    </tr>\n",
       "    <tr>\n",
       "      <th>1</th>\n",
       "      <td>growth</td>\n",
       "      <td>-0.679526</td>\n",
       "    </tr>\n",
       "  </tbody>\n",
       "</table>\n",
       "</div>"
      ],
      "text/plain": [
       "  stock_performance  prev_avg_sentiment_score\n",
       "0           decline                 -0.692048\n",
       "1            growth                 -0.679526"
      ]
     },
     "execution_count": 156,
     "metadata": {},
     "output_type": "execute_result"
    }
   ],
   "source": [
    "avg_sentiment_by_performance = cleaned_df.groupby('stock_performance')['prev_avg_sentiment_score'].mean().reset_index()\n",
    "avg_sentiment_by_performance"
   ]
  },
  {
   "cell_type": "code",
   "execution_count": 157,
   "id": "932dd966",
   "metadata": {},
   "outputs": [],
   "source": [
    "cleaned_df.to_csv('final_bert.csv', index=False)"
   ]
  },
  {
   "cell_type": "code",
   "execution_count": 158,
   "id": "2465386b",
   "metadata": {},
   "outputs": [
    {
     "data": {
      "text/html": [
       "<div>\n",
       "<style scoped>\n",
       "    .dataframe tbody tr th:only-of-type {\n",
       "        vertical-align: middle;\n",
       "    }\n",
       "\n",
       "    .dataframe tbody tr th {\n",
       "        vertical-align: top;\n",
       "    }\n",
       "\n",
       "    .dataframe thead th {\n",
       "        text-align: right;\n",
       "    }\n",
       "</style>\n",
       "<table border=\"1\" class=\"dataframe\">\n",
       "  <thead>\n",
       "    <tr style=\"text-align: right;\">\n",
       "      <th></th>\n",
       "      <th>day_date</th>\n",
       "      <th>stock_performance</th>\n",
       "      <th>prev_avg_sentiment_score</th>\n",
       "    </tr>\n",
       "    <tr>\n",
       "      <th>ticker_symbol</th>\n",
       "      <th></th>\n",
       "      <th></th>\n",
       "      <th></th>\n",
       "    </tr>\n",
       "  </thead>\n",
       "  <tbody>\n",
       "    <tr>\n",
       "      <th>AAPL</th>\n",
       "      <td>1253</td>\n",
       "      <td>1253</td>\n",
       "      <td>1253</td>\n",
       "    </tr>\n",
       "    <tr>\n",
       "      <th>AMZN</th>\n",
       "      <td>1257</td>\n",
       "      <td>1257</td>\n",
       "      <td>1257</td>\n",
       "    </tr>\n",
       "    <tr>\n",
       "      <th>GOOG</th>\n",
       "      <td>3650</td>\n",
       "      <td>3650</td>\n",
       "      <td>3650</td>\n",
       "    </tr>\n",
       "    <tr>\n",
       "      <th>MSFT</th>\n",
       "      <td>1245</td>\n",
       "      <td>1245</td>\n",
       "      <td>1245</td>\n",
       "    </tr>\n",
       "    <tr>\n",
       "      <th>TSLA</th>\n",
       "      <td>1257</td>\n",
       "      <td>1257</td>\n",
       "      <td>1257</td>\n",
       "    </tr>\n",
       "  </tbody>\n",
       "</table>\n",
       "</div>"
      ],
      "text/plain": [
       "               day_date  stock_performance  prev_avg_sentiment_score\n",
       "ticker_symbol                                                       \n",
       "AAPL               1253               1253                      1253\n",
       "AMZN               1257               1257                      1257\n",
       "GOOG               3650               3650                      3650\n",
       "MSFT               1245               1245                      1245\n",
       "TSLA               1257               1257                      1257"
      ]
     },
     "execution_count": 158,
     "metadata": {},
     "output_type": "execute_result"
    }
   ],
   "source": [
    "cleaned_df.groupby('ticker_symbol').count()"
   ]
  },
  {
   "cell_type": "code",
   "execution_count": 159,
   "id": "edf01917",
   "metadata": {},
   "outputs": [
    {
     "data": {
      "text/html": [
       "<div>\n",
       "<style scoped>\n",
       "    .dataframe tbody tr th:only-of-type {\n",
       "        vertical-align: middle;\n",
       "    }\n",
       "\n",
       "    .dataframe tbody tr th {\n",
       "        vertical-align: top;\n",
       "    }\n",
       "\n",
       "    .dataframe thead th {\n",
       "        text-align: right;\n",
       "    }\n",
       "</style>\n",
       "<table border=\"1\" class=\"dataframe\">\n",
       "  <thead>\n",
       "    <tr style=\"text-align: right;\">\n",
       "      <th></th>\n",
       "      <th>ticker_symbol</th>\n",
       "      <th>day_date</th>\n",
       "      <th>prev_avg_sentiment_score</th>\n",
       "    </tr>\n",
       "    <tr>\n",
       "      <th>stock_performance</th>\n",
       "      <th></th>\n",
       "      <th></th>\n",
       "      <th></th>\n",
       "    </tr>\n",
       "  </thead>\n",
       "  <tbody>\n",
       "    <tr>\n",
       "      <th>decline</th>\n",
       "      <td>4308</td>\n",
       "      <td>4308</td>\n",
       "      <td>4308</td>\n",
       "    </tr>\n",
       "    <tr>\n",
       "      <th>growth</th>\n",
       "      <td>4354</td>\n",
       "      <td>4354</td>\n",
       "      <td>4354</td>\n",
       "    </tr>\n",
       "  </tbody>\n",
       "</table>\n",
       "</div>"
      ],
      "text/plain": [
       "                   ticker_symbol  day_date  prev_avg_sentiment_score\n",
       "stock_performance                                                   \n",
       "decline                     4308      4308                      4308\n",
       "growth                      4354      4354                      4354"
      ]
     },
     "execution_count": 159,
     "metadata": {},
     "output_type": "execute_result"
    }
   ],
   "source": [
    "cleaned_df.groupby('stock_performance').count()"
   ]
  },
  {
   "cell_type": "code",
   "execution_count": null,
   "id": "100f9b7c",
   "metadata": {},
   "outputs": [],
   "source": []
  }
 ],
 "metadata": {
  "kernelspec": {
   "display_name": "Python 3 (ipykernel)",
   "language": "python",
   "name": "python3"
  },
  "language_info": {
   "codemirror_mode": {
    "name": "ipython",
    "version": 3
   },
   "file_extension": ".py",
   "mimetype": "text/x-python",
   "name": "python",
   "nbconvert_exporter": "python",
   "pygments_lexer": "ipython3",
   "version": "3.11.8"
  }
 },
 "nbformat": 4,
 "nbformat_minor": 5
}
